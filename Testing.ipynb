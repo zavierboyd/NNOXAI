{
 "cells": [
  {
   "cell_type": "code",
   "execution_count": 1,
   "metadata": {
    "collapsed": false
   },
   "outputs": [],
   "source": [
    "from __future__ import division\n",
    "import time\n",
    "from random import randint,random,choice\n",
    "import numpy as np\n",
    "from math import sqrt,exp,e\n",
    "from playxo import newboard, play_game\n",
    "from stratagies import oneturnai\n",
    "from neuralnet import *\n",
    "from testindata import *\n",
    "import random\n",
    "random.seed(1337)"
   ]
  },
  {
   "cell_type": "code",
   "execution_count": 1,
   "metadata": {
    "collapsed": false
   },
   "outputs": [
    {
     "ename": "ImportError",
     "evalue": "No module named testindata",
     "output_type": "error",
     "traceback": [
      "\u001b[0;31m---------------------------------------------------------------------------\u001b[0m",
      "\u001b[0;31mImportError\u001b[0m                               Traceback (most recent call last)",
      "\u001b[0;32m<ipython-input-1-52ab515d66fd>\u001b[0m in \u001b[0;36m<module>\u001b[0;34m()\u001b[0m\n\u001b[0;32m----> 1\u001b[0;31m \u001b[0;32mfrom\u001b[0m \u001b[0mtestindata\u001b[0m \u001b[0;32mimport\u001b[0m \u001b[0;34m*\u001b[0m\u001b[0;34m\u001b[0m\u001b[0m\n\u001b[0m",
      "\u001b[0;31mImportError\u001b[0m: No module named testindata"
     ]
    }
   ],
   "source": [
    "from testindata import *"
   ]
  },
  {
   "cell_type": "code",
   "execution_count": 2,
   "metadata": {
    "collapsed": false,
    "scrolled": true
   },
   "outputs": [],
   "source": [
    "trainingdata = {}\n",
    "def stupidai(board,side):\n",
    "    solution = False\n",
    "    while not solution:\n",
    "        play = randint(1,9)\n",
    "        if board[phonetoboard[play]] == \".\":\n",
    "            solution = True\n",
    "            trainingdata[\"\".join(board)] = play\n",
    "    return play #phone\n",
    "\n",
    "# coach = stupidai\n",
    "\n",
    "# for i in range(500):\n",
    "#     board = newboard()\n",
    "#     play_game(coach,stupidai,board)\n",
    "# for i in range(500):\n",
    "#     board = newboard()\n",
    "#     play_game(coach,oneturnai(),board)\n",
    "\n",
    "# moves = trainingdata.values()\n",
    "# goal = [[1 if move == i else 0 for i in range(1,10)] for move in moves]\n",
    "# inputs = trainingdata.keys()\n",
    "\n",
    "# # print \"goal =\",goal\n",
    "# # print \"inputs =\",inputs"
   ]
  },
  {
   "cell_type": "code",
   "execution_count": 3,
   "metadata": {
    "collapsed": false
   },
   "outputs": [],
   "source": [
    "hiddenwidth = 18\n",
    "inwidth = 9*3\n",
    "outwidth = 9\n",
    "\n",
    "gens = 100\n",
    "threshold = 0.01\n",
    "popsize = 100\n",
    "cut = 50\n",
    "\n",
    "popu = [NNXO.newrandom(inwidth,hiddenwidth,outwidth) for i in range(popsize)]\n",
    "xoevolve = EvolutionLearning(inputs,goal,popsize,cut,popu)"
   ]
  },
  {
   "cell_type": "code",
   "execution_count": 4,
   "metadata": {
    "collapsed": true
   },
   "outputs": [],
   "source": [
    "all_fittest = []\n",
    "i = 0\n",
    "clock0 = time.clock()"
   ]
  },
  {
   "cell_type": "code",
   "execution_count": 5,
   "metadata": {
    "collapsed": false
   },
   "outputs": [
    {
     "name": "stdout",
     "output_type": "stream",
     "text": [
      " "
     ]
    }
   ],
   "source": [
    "%prun xoevolve(gens,threshold)"
   ]
  },
  {
   "cell_type": "code",
   "execution_count": 6,
   "metadata": {
    "collapsed": false
   },
   "outputs": [
    {
     "name": "stdout",
     "output_type": "stream",
     "text": [
      "0 0.992786951435 0.548095679338 t: 147 stupid losses: 10000\n"
     ]
    },
    {
     "ename": "KeyboardInterrupt",
     "evalue": "",
     "output_type": "error",
     "traceback": [
      "\u001b[0;31m---------------------------------------------------------------------------\u001b[0m",
      "\u001b[0;31mKeyboardInterrupt\u001b[0m                         Traceback (most recent call last)",
      "\u001b[0;32m<ipython-input-6-9e176eb99ce6>\u001b[0m in \u001b[0;36m<module>\u001b[0;34m()\u001b[0m\n\u001b[1;32m      1\u001b[0m \u001b[0;34m\u001b[0m\u001b[0m\n\u001b[1;32m      2\u001b[0m \u001b[0;32mwhile\u001b[0m \u001b[0mTrue\u001b[0m\u001b[0;34m:\u001b[0m\u001b[0;34m\u001b[0m\u001b[0m\n\u001b[0;32m----> 3\u001b[0;31m     \u001b[0mxoevolve\u001b[0m\u001b[0;34m(\u001b[0m\u001b[0mgens\u001b[0m\u001b[0;34m,\u001b[0m\u001b[0mthreshold\u001b[0m\u001b[0;34m)\u001b[0m\u001b[0;34m\u001b[0m\u001b[0m\n\u001b[0m\u001b[1;32m      4\u001b[0m     \u001b[0mfittest\u001b[0m \u001b[0;34m=\u001b[0m\u001b[0mxoevolve\u001b[0m\u001b[0;34m.\u001b[0m\u001b[0mpopulation\u001b[0m\u001b[0;34m[\u001b[0m\u001b[0;36m0\u001b[0m\u001b[0;34m]\u001b[0m\u001b[0;34m\u001b[0m\u001b[0m\n\u001b[1;32m      5\u001b[0m     \u001b[0mall_fittest\u001b[0m\u001b[0;34m.\u001b[0m\u001b[0mappend\u001b[0m\u001b[0;34m(\u001b[0m\u001b[0mfittest\u001b[0m\u001b[0;34m)\u001b[0m\u001b[0;34m\u001b[0m\u001b[0m\n",
      "\u001b[0;32m/Users/zavidan/Dev/neural networks/platformer/NNOXAI/neuralnet.pyc\u001b[0m in \u001b[0;36m__call__\u001b[0;34m(self, gens, threshold)\u001b[0m\n\u001b[1;32m    323\u001b[0m     \u001b[0;32mdef\u001b[0m \u001b[0m__call__\u001b[0m\u001b[0;34m(\u001b[0m\u001b[0mself\u001b[0m\u001b[0;34m,\u001b[0m\u001b[0mgens\u001b[0m\u001b[0;34m,\u001b[0m\u001b[0mthreshold\u001b[0m\u001b[0;34m)\u001b[0m\u001b[0;34m:\u001b[0m\u001b[0;34m\u001b[0m\u001b[0m\n\u001b[1;32m    324\u001b[0m         \u001b[0;32mfor\u001b[0m \u001b[0mi\u001b[0m \u001b[0;32min\u001b[0m \u001b[0mrange\u001b[0m\u001b[0;34m(\u001b[0m\u001b[0mgens\u001b[0m\u001b[0;34m)\u001b[0m\u001b[0;34m:\u001b[0m\u001b[0;34m\u001b[0m\u001b[0m\n\u001b[0;32m--> 325\u001b[0;31m             \u001b[0mself\u001b[0m\u001b[0;34m.\u001b[0m\u001b[0mevolvelearn\u001b[0m\u001b[0;34m(\u001b[0m\u001b[0;34m)\u001b[0m\u001b[0;34m\u001b[0m\u001b[0m\n\u001b[0m\u001b[1;32m    326\u001b[0m             \u001b[0mfitness\u001b[0m \u001b[0;34m=\u001b[0m \u001b[0msorted\u001b[0m\u001b[0;34m(\u001b[0m\u001b[0mself\u001b[0m\u001b[0;34m.\u001b[0m\u001b[0mpopulation\u001b[0m\u001b[0;34m,\u001b[0m \u001b[0mkey\u001b[0m\u001b[0;34m=\u001b[0m\u001b[0;32mlambda\u001b[0m \u001b[0mperson\u001b[0m\u001b[0;34m:\u001b[0m \u001b[0mperson\u001b[0m\u001b[0;34m.\u001b[0m\u001b[0merror\u001b[0m\u001b[0;34m)\u001b[0m\u001b[0;34m\u001b[0m\u001b[0m\n\u001b[1;32m    327\u001b[0m             \u001b[0mself\u001b[0m\u001b[0;34m.\u001b[0m\u001b[0mpopulation\u001b[0m \u001b[0;34m=\u001b[0m \u001b[0mfitness\u001b[0m\u001b[0;34m\u001b[0m\u001b[0m\n",
      "\u001b[0;32m/Users/zavidan/Dev/neural networks/platformer/NNOXAI/neuralnet.pyc\u001b[0m in \u001b[0;36mevolvelearn\u001b[0;34m(self)\u001b[0m\n\u001b[1;32m    336\u001b[0m         \u001b[0;32mfor\u001b[0m \u001b[0mchild\u001b[0m \u001b[0;32min\u001b[0m \u001b[0mchildren\u001b[0m\u001b[0;34m:\u001b[0m\u001b[0;34m\u001b[0m\u001b[0m\n\u001b[1;32m    337\u001b[0m             \u001b[0mout\u001b[0m \u001b[0;34m=\u001b[0m \u001b[0mchild\u001b[0m\u001b[0;34m.\u001b[0m\u001b[0mcalcout\u001b[0m\u001b[0;34m(\u001b[0m\u001b[0mself\u001b[0m\u001b[0;34m.\u001b[0m\u001b[0minputs\u001b[0m\u001b[0;34m)\u001b[0m\u001b[0;34m\u001b[0m\u001b[0m\n\u001b[0;32m--> 338\u001b[0;31m             \u001b[0mchild\u001b[0m\u001b[0;34m.\u001b[0m\u001b[0mcalcerror\u001b[0m\u001b[0;34m(\u001b[0m\u001b[0mout\u001b[0m\u001b[0;34m,\u001b[0m\u001b[0mself\u001b[0m\u001b[0;34m.\u001b[0m\u001b[0mgoal\u001b[0m\u001b[0;34m)\u001b[0m\u001b[0;34m\u001b[0m\u001b[0m\n\u001b[0m\u001b[1;32m    339\u001b[0m         \u001b[0mself\u001b[0m\u001b[0;34m.\u001b[0m\u001b[0mpopulation\u001b[0m \u001b[0;34m=\u001b[0m \u001b[0mchildren\u001b[0m \u001b[0;34m+\u001b[0m \u001b[0mfittest\u001b[0m\u001b[0;34m\u001b[0m\u001b[0m\n",
      "\u001b[0;32m/Users/zavidan/Dev/neural networks/platformer/NNOXAI/neuralnet.pyc\u001b[0m in \u001b[0;36mcalcerror\u001b[0;34m(self, outputs, goals)\u001b[0m\n\u001b[1;32m    233\u001b[0m \u001b[0;34m\u001b[0m\u001b[0m\n\u001b[1;32m    234\u001b[0m     \u001b[0;32mdef\u001b[0m \u001b[0mcalcerror\u001b[0m\u001b[0;34m(\u001b[0m\u001b[0mself\u001b[0m\u001b[0;34m,\u001b[0m \u001b[0moutputs\u001b[0m\u001b[0;34m,\u001b[0m \u001b[0mgoals\u001b[0m\u001b[0;34m)\u001b[0m\u001b[0;34m:\u001b[0m\u001b[0;34m\u001b[0m\u001b[0m\n\u001b[0;32m--> 235\u001b[0;31m         \u001b[0merror\u001b[0m \u001b[0;34m=\u001b[0m \u001b[0moutputs\u001b[0m \u001b[0;34m-\u001b[0m \u001b[0mgoals\u001b[0m\u001b[0;34m\u001b[0m\u001b[0m\n\u001b[0m\u001b[1;32m    236\u001b[0m         \u001b[0mself\u001b[0m\u001b[0;34m.\u001b[0m\u001b[0merror\u001b[0m \u001b[0;34m=\u001b[0m \u001b[0msqrt\u001b[0m\u001b[0;34m(\u001b[0m\u001b[0mnp\u001b[0m\u001b[0;34m.\u001b[0m\u001b[0msum\u001b[0m\u001b[0;34m(\u001b[0m\u001b[0merror\u001b[0m\u001b[0;34m**\u001b[0m\u001b[0;36m2\u001b[0m\u001b[0;34m)\u001b[0m\u001b[0;34m/\u001b[0m\u001b[0mlen\u001b[0m\u001b[0;34m(\u001b[0m\u001b[0moutputs\u001b[0m\u001b[0;34m)\u001b[0m\u001b[0;34m)\u001b[0m\u001b[0;34m\u001b[0m\u001b[0m\n\u001b[1;32m    237\u001b[0m         \u001b[0;32mreturn\u001b[0m \u001b[0mself\u001b[0m\u001b[0;34m.\u001b[0m\u001b[0merror\u001b[0m\u001b[0;34m\u001b[0m\u001b[0m\n",
      "\u001b[0;31mKeyboardInterrupt\u001b[0m: "
     ]
    }
   ],
   "source": [
    "while True:\n",
    "    xoevolve(gens,threshold)\n",
    "    fittest =xoevolve.population[0]\n",
    "    all_fittest.append(fittest)\n",
    "    print i,\n",
    "    print fittest.error,\n",
    "    print fittest.maxdelta, \n",
    "    print 't: {}'.format(int(time.clock() - clock0)),\n",
    "    stupidgames = [play_game( all_fittest[-1],stupidai,board) for j in range(10000)]\n",
    "    print 'stupid losses: {}'.format(stupidgames.count(-2 ))\n",
    "    if fittest.error < threshold:\n",
    "        break\n",
    "    i += gens"
   ]
  },
  {
   "cell_type": "code",
   "execution_count": 63,
   "metadata": {
    "collapsed": false
   },
   "outputs": [
    {
     "name": "stdout",
     "output_type": "stream",
     "text": [
      " \n"
     ]
    }
   ],
   "source": [
    "%prun xoevolve(gens,threshold)"
   ]
  },
  {
   "cell_type": "code",
   "execution_count": 96,
   "metadata": {
    "collapsed": false
   },
   "outputs": [
    {
     "name": "stdout",
     "output_type": "stream",
     "text": [
      "54100\n"
     ]
    }
   ],
   "source": [
    "fittest.maxdelta = 0.01\n",
    "print i"
   ]
  },
  {
   "cell_type": "code",
   "execution_count": 7,
   "metadata": {
    "collapsed": false
   },
   "outputs": [
    {
     "name": "stdout",
     "output_type": "stream",
     "text": [
      "2033.740554\n"
     ]
    }
   ],
   "source": [
    "print time.clock()"
   ]
  },
  {
   "cell_type": "code",
   "execution_count": null,
   "metadata": {
    "collapsed": false
   },
   "outputs": [],
   "source": [
    "calcs = fittest.calcout(0)\n",
    "for l in range(len(calcs)):\n",
    "    print moves[l],calcout[l]"
   ]
  },
  {
   "cell_type": "code",
   "execution_count": 91,
   "metadata": {
    "collapsed": false
   },
   "outputs": [
    {
     "name": "stdout",
     "output_type": "stream",
     "text": [
      "{'\\nx.o\\nx.x\\n.oo\\n': 7, '\\noo.\\no.x\\nxx.\\n': 9, '\\nx.x\\nxoo\\no..\\n': 2, '\\noo.\\n.x.\\n.x.\\n': 3, '\\n.oo\\nxx.\\n.ox\\n': 6, '\\nxoo\\no.x\\nxox\\n': 5, '\\n.x.\\no.o\\nx..\\n': 5, '\\no.x\\n..x\\nxoo\\n': 5, '\\n.xo\\nxox\\n.o.\\n': 7, '\\no.x\\n..o\\nx..\\n': 5, '\\noxx\\nxo.\\no..\\n': 9, '\\nxo.\\noox\\nx..\\n': 8, '\\nx..\\n.o.\\n.ox\\n': 2, '\\n..x\\n.o.\\n.xo\\n': 1, '\\no.x\\n.ox\\nox.\\n': 9, '\\noxx\\n.o.\\nxo.\\n': 9, '\\nxx.\\noo.\\n...\\n': 3, '\\nx..\\nxxo\\no.o\\n': 3, '\\n..o\\n.ox\\n..x\\n': 7, '\\nox.\\n...\\nx.o\\n': 5, '\\nxxo\\no.x\\no..\\n': 5, '\\noxx\\nxoo\\nox.\\n': 9, '\\noxx\\n.o.\\nox.\\n': 4, '\\n...\\nxox\\n.o.\\n': 2, '\\nxx.\\no..\\n.o.\\n': 3, '\\n..x\\no..\\nox.\\n': 1, '\\nox.\\nxo.\\n...\\n': 9, '\\nx.o\\n...\\nox.\\n': 5, '\\no..\\n...\\nxxo\\n': 5, '\\nxxo\\no..\\no.x\\n': 5, '\\no.x\\nxo.\\no.x\\n': 6, '\\noxo\\nxo.\\n.x.\\n': 9, '\\n...\\no.o\\nx.x\\n': 8, '\\nxo.\\n.o.\\n..x\\n': 8, '\\n.o.\\n.xo\\noxx\\n': 1, '\\n.x.\\noo.\\n.x.\\n': 6, '\\n.ox\\nxoo\\n..x\\n': 8, '\\no.x\\nxo.\\n...\\n': 9, '\\nx..\\nx.o\\n..o\\n': 7, '\\n..o\\nx.x\\noox\\n': 5, '\\n.xo\\nox.\\nx.o\\n': 8, '\\n..o\\nx.o\\n.x.\\n': 9, '\\no.o\\n.x.\\nxox\\n': 2, '\\nxx.\\no..\\no..\\n': 3, '\\noo.\\n.x.\\noxx\\n': 4, '\\n..o\\nxx.\\n..o\\n': 6, '\\noox\\n.xo\\n..x\\n': 7, '\\n.o.\\n.xo\\nx..\\n': 3, '\\n..x\\noox\\nx.o\\n': 1, '\\nx.o\\no..\\nxxo\\n': 6, '\\nox.\\n...\\no.x\\n': 4, '\\n...\\n.x.\\noox\\n': 1, '\\n...\\n.ox\\nxo.\\n': 2, '\\no.o\\n.x.\\nxxo\\n': 2, '\\nxxo\\n..o\\n...\\n': 9, '\\nxox\\nox.\\no..\\n': 9, '\\no..\\nxx.\\noxo\\n': 2, '\\nx..\\noo.\\nx..\\n': 6, '\\n...\\n.o.\\nxox\\n': 2, '\\n...\\nxox\\no..\\n': 3, '\\no.x\\n.oo\\n.xx\\n': 7, '\\n.xx\\n.oo\\n...\\n': 1, '\\n.o.\\noxx\\nxo.\\n': 3, '\\n..o\\noxx\\n.ox\\n': 1, '\\no.o\\n.x.\\nx..\\n': 2, '\\n.oo\\nx.x\\n.xo\\n': 5, '\\no.x\\n...\\n.ox\\n': 6, '\\n...\\n..x\\noox\\n': 3, '\\nxoo\\nxxo\\nox.\\n': 9, '\\n.xo\\noo.\\nx.x\\n': 8, '\\n.xx\\noox\\nxoo\\n': 1, '\\noo.\\nxx.\\nx.o\\n': 6, '\\nxox\\nxoo\\no.x\\n': 8, '\\no..\\nxo.\\noxx\\n': 3, '\\n.xo\\nxox\\n..o\\n': 1, '\\n..o\\n..x\\nox.\\n': 5, '\\n...\\n.xo\\nx.o\\n': 3, '\\nxx.\\n..o\\n.o.\\n': 3, '\\nox.\\n...\\n.xo\\n': 5, '\\nx.o\\nxxo\\no..\\n': 9, '\\n..x\\noo.\\n..x\\n': 6, '\\n.oo\\n.xx\\nxo.\\n': 4, '\\n..o\\nxo.\\n.x.\\n': 7, '\\nxxo\\n.ox\\n.o.\\n': 7, '\\n.xo\\nx..\\n..o\\n': 6, '\\no.x\\n..o\\noxx\\n': 4, '\\n...\\n.xo\\no.x\\n': 1, '\\nxxo\\n.o.\\n.xo\\n': 6, '\\nox.\\n.x.\\n..o\\n': 8, '\\n.xo\\noxx\\noox\\n': 1, '\\no..\\n.xo\\nxox\\n': 3, '\\noox\\n.o.\\n.xx\\n': 6, '\\no.x\\n.o.\\n.x.\\n': 9, '\\n.x.\\nox.\\nxoo\\n': 3, '\\nxo.\\nxox\\noxo\\n': 3, '\\n.xo\\noxo\\nx..\\n': 8, '\\nxx.\\n...\\n.oo\\n': 3, '\\nxo.\\n.xo\\n.xo\\n': 3, '\\no.x\\nxx.\\no.o\\n': 6, '\\nx..\\no..\\no.x\\n': 5, '\\nx..\\noxo\\nx.o\\n': 3, '\\nxox\\noxx\\no.o\\n': 8, '\\n.x.\\noox\\nx.o\\n': 1, '\\nx.o\\n.o.\\nxxo\\n': 4, '\\n.ox\\no..\\nx..\\n': 5, '\\nx.x\\nxoo\\noxo\\n': 2, '\\nxoo\\n.ox\\n..x\\n': 8, '\\noo.\\nxxo\\nxox\\n': 3, '\\no.o\\noxx\\nx..\\n': 2, '\\nox.\\n.oo\\nxx.\\n': 9, '\\nox.\\n.x.\\noox\\n': 4, '\\n..o\\noxx\\no.x\\n': 1, '\\nx.o\\nox.\\nx.o\\n': 6, '\\no..\\nox.\\nx..\\n': 3, '\\nx..\\nx..\\noo.\\n': 9, '\\nox.\\nox.\\n.ox\\n': 7, '\\nxxo\\noxx\\noo.\\n': 9, '\\no.x\\no..\\nxxo\\n': 5, '\\n.oo\\n..x\\nxxo\\n': 1, '\\nxoo\\n.xx\\noxo\\n': 4, '\\no..\\n.ox\\n..x\\n': 3, '\\nxxo\\nx..\\noo.\\n': 9, '\\no..\\nxo.\\nxox\\n': 2, '\\nox.\\noxo\\nxox\\n': 3, '\\n.xo\\nxo.\\n...\\n': 7, '\\nx.x\\n.oo\\n.xo\\n': 2, '\\n.xo\\nxxo\\noox\\n': 1, '\\no.x\\nxxo\\noxo\\n': 2, '\\nx..\\n..o\\nxo.\\n': 4, '\\n..x\\nxo.\\n..o\\n': 1, '\\n...\\no..\\noxx\\n': 1, '\\nox.\\nxxo\\n..o\\n': 8, '\\nox.\\nxo.\\nox.\\n': 9, '\\no.x\\n.xo\\no.x\\n': 4, '\\noxo\\nxox\\nxo.\\n': 9, '\\no..\\n.o.\\nx.x\\n': 8, '\\noo.\\nx..\\nxox\\n': 5, '\\nx.o\\n...\\nx.o\\n': 4, '\\noxo\\nxxo\\nxo.\\n': 9, '\\nxo.\\nxx.\\no.o\\n': 6, '\\noox\\nxo.\\n.x.\\n': 9, '\\no.x\\n.x.\\no..\\n': 4, '\\n.xo\\n.x.\\nxoo\\n': 6, '\\no.x\\n.ox\\n...\\n': 9, '\\n..x\\n.o.\\nxo.\\n': 2, '\\noxo\\n.o.\\nx.x\\n': 8, '\\n..x\\nxox\\no.o\\n': 8, '\\n.x.\\nxo.\\noox\\n': 3, '\\nxx.\\n.o.\\noxo\\n': 3, '\\noo.\\n...\\nxx.\\n': 9, '\\n.x.\\n..o\\n.xo\\n': 5, '\\n.o.\\n.xx\\n.o.\\n': 4, '\\nxox\\nox.\\n..o\\n': 7, '\\nx..\\nxo.\\no..\\n': 3, '\\n...\\n..o\\nxxo\\n': 3, '\\n..x\\nxxo\\noo.\\n': 9, '\\n...\\nx.o\\nxo.\\n': 1, '\\noox\\nxox\\nox.\\n': 9, '\\noxx\\no.x\\n..o\\n': 7, '\\n..o\\nx..\\n.xo\\n': 6, '\\nx..\\nx.o\\noox\\n': 5, '\\n.xx\\n...\\n.oo\\n': 1, '\\n..o\\n.xx\\nxoo\\n': 4, '\\n.x.\\n.oo\\n.x.\\n': 4, '\\n.ox\\nxox\\noxo\\n': 1, '\\nxo.\\n..x\\n.o.\\n': 5, '\\no..\\nxox\\nox.\\n': 9, '\\n..o\\nx..\\nx.o\\n': 1, '\\nox.\\nxo.\\no.x\\n': 3, '\\n.oo\\noxx\\nxxo\\n': 1, '\\n.x.\\noxo\\nxo.\\n': 3, '\\noo.\\nxx.\\nxo.\\n': 6, '\\no.o\\n.xx\\n...\\n': 4, '\\nx.o\\nox.\\nxo.\\n': 9, '\\n.ox\\no..\\n..x\\n': 6, '\\n..o\\noxo\\nx.x\\n': 8, '\\n..x\\n.xo\\n..o\\n': 7, '\\nxxo\\noxx\\n.oo\\n': 7, '\\n..x\\n.o.\\nx.o\\n': 1, '\\nx.x\\noox\\noxo\\n': 2, '\\n..x\\nox.\\n.o.\\n': 7, '\\no.x\\n.oo\\nx.x\\n': 8, '\\n..o\\nx..\\no.x\\n': 5, '\\noox\\n...\\nx..\\n': 5, '\\n...\\noxx\\no..\\n': 1, '\\n.ox\\n.xo\\no.x\\n': 1, '\\noo.\\nx..\\n..x\\n': 3, '\\no.o\\nx..\\n..x\\n': 2, '\\n.xx\\nxoo\\no..\\n': 1, '\\n.xo\\noox\\n.x.\\n': 7, '\\noxx\\nxxo\\noo.\\n': 9, '\\n.xo\\nxo.\\nxo.\\n': 1, '\\nx.x\\nxo.\\no.o\\n': 2, '\\nx.o\\n..o\\noxx\\n': 5, '\\nx.o\\no.x\\nox.\\n': 5, '\\no..\\n.x.\\n.xo\\n': 2, '\\n.x.\\no..\\no.x\\n': 1, '\\nx.o\\n.x.\\n..o\\n': 6, '\\nxxo\\n..o\\n.ox\\n': 5, '\\n..o\\nx.x\\n.o.\\n': 5, '\\nxox\\n.x.\\n.oo\\n': 7, '\\no.x\\nx..\\nxoo\\n': 5, '\\no..\\n...\\noxx\\n': 4, '\\no..\\nxxo\\nx.o\\n': 3, '\\nx.x\\no..\\n..o\\n': 2, '\\nox.\\n.o.\\nx..\\n': 9, '\\nxo.\\noo.\\n.xx\\n': 7, '\\n...\\nox.\\n.xo\\n': 2, '\\nx..\\nxo.\\noxo\\n': 3, '\\nx..\\n.xo\\n..o\\n': 3, '\\n..x\\noo.\\nx..\\n': 6, '\\no.x\\n...\\nx.o\\n': 5, '\\nxxo\\noo.\\nx..\\n': 6, '\\nox.\\no.x\\n...\\n': 7, '\\n.o.\\n.x.\\n.ox\\n': 1, '\\n.x.\\n.x.\\noo.\\n': 9, '\\n.x.\\nx..\\no.o\\n': 8, '\\n..x\\noox\\n...\\n': 9, '\\n..x\\n.x.\\noo.\\n': 9, '\\nx.o\\noox\\n..x\\n': 7, '\\n..o\\nxo.\\nxxo\\n': 1, '\\no.o\\noxx\\n..x\\n': 7, '\\n...\\no.x\\nox.\\n': 1, '\\n.ox\\no.x\\nox.\\n': 9, '\\noox\\nx.o\\nxxo\\n': 5, '\\nx..\\n.xo\\no..\\n': 9, '\\n.oo\\n...\\nxx.\\n': 9, '\\nx.x\\no.o\\n...\\n': 2, '\\noox\\nx.o\\nx..\\n': 5, '\\n.ox\\n...\\no.x\\n': 6, '\\noo.\\n.xx\\nox.\\n': 4, '\\noo.\\nx.x\\n.xo\\n': 5, '\\n.o.\\nxo.\\n..x\\n': 8, '\\nx..\\nxo.\\noox\\n': 2, '\\nx.o\\noox\\nxox\\n': 2, '\\nox.\\n..o\\nxxo\\n': 5, '\\no..\\nox.\\n.x.\\n': 2, '\\n.ox\\n.o.\\nx..\\n': 8, '\\noox\\n.x.\\n.xo\\n': 7, '\\nxo.\\n.ox\\n...\\n': 8, '\\nox.\\nx..\\nxoo\\n': 5, '\\nx..\\noo.\\nxox\\n': 2, '\\nx..\\n..x\\n.oo\\n': 7, '\\nxox\\n..x\\no.o\\n': 8, '\\nx.o\\n..o\\n.x.\\n': 9, '\\no.x\\nxoo\\nxox\\n': 2, '\\n.o.\\nxo.\\noxx\\n': 3, '\\no.o\\noxx\\nxox\\n': 2, '\\n.xo\\nxxo\\n.o.\\n': 9, '\\n.x.\\n.x.\\no.o\\n': 8, '\\nox.\\n.ox\\nxo.\\n': 9, '\\nox.\\n..x\\n..o\\n': 5, '\\n.o.\\nxx.\\n..o\\n': 6, '\\n..o\\n...\\nxxo\\n': 6, '\\noxx\\noo.\\n..x\\n': 6, '\\n..o\\noox\\nx.x\\n': 8, '\\nx.x\\no..\\noxo\\n': 2, '\\no.x\\n..x\\no..\\n': 9, '\\n..o\\no..\\nx.x\\n': 8, '\\nox.\\n.x.\\no..\\n': 8, '\\nox.\\n.ox\\n...\\n': 9, '\\n..o\\nxxo\\n.ox\\n': 1, '\\n..o\\n.x.\\n.ox\\n': 1, '\\n.xx\\n.o.\\nxoo\\n': 1, '\\nx..\\n.ox\\n.o.\\n': 2, '\\no..\\n.ox\\nx..\\n': 9, '\\n.o.\\nxx.\\no..\\n': 6, '\\n.xo\\n..x\\noox\\n': 5, '\\n.oo\\n.x.\\nxxo\\n': 6, '\\n.oo\\n.ox\\nxx.\\n': 9, '\\no.o\\n.ox\\nx.x\\n': 8, '\\nx.o\\nx..\\noxo\\n': 6, '\\n..x\\n.oo\\noxx\\n': 4, '\\n..o\\n...\\noxx\\n': 5, '\\nxxo\\nx.o\\no..\\n': 9, '\\nxx.\\noox\\noxo\\n': 3, '\\no.o\\nx..\\nxox\\n': 2, '\\nxxo\\nox.\\nxoo\\n': 6, '\\nxox\\noox\\nx.o\\n': 8, '\\noxx\\noo.\\nx..\\n': 6, '\\noxx\\n...\\n..o\\n': 5, '\\nx..\\n..x\\noo.\\n': 9, '\\noo.\\nx..\\noxx\\n': 3, '\\nxox\\no.o\\n..x\\n': 5, '\\nxxo\\nx.o\\noox\\n': 5, '\\n.xx\\nx.o\\n.oo\\n': 1, '\\noo.\\nx..\\n.x.\\n': 3, '\\n..o\\n.xo\\n.x.\\n': 2, '\\nxox\\no..\\nx.o\\n': 5, '\\no.x\\n..x\\noxo\\n': 4, '\\no.x\\n.o.\\n..x\\n': 6, '\\n...\\nxxo\\n..o\\n': 3, '\\noxx\\n.x.\\n.oo\\n': 7, '\\n.ox\\nx..\\n.o.\\n': 5, '\\n.xo\\noox\\n..x\\n': 7, '\\nx.o\\n.ox\\n.ox\\n': 2, '\\n..x\\n.xo\\noox\\n': 1, '\\noo.\\nx.x\\n...\\n': 5, '\\nx.o\\n..x\\noox\\n': 5, '\\nxxo\\n.o.\\nxo.\\n': 4, '\\nx.o\\no..\\nxox\\n': 5, '\\nx.o\\n.oo\\nx.x\\n': 4, '\\nx.x\\n...\\n.oo\\n': 2, '\\n.oo\\noxx\\nx..\\n': 1, '\\nxo.\\n..o\\nx..\\n': 4, '\\n.ox\\n.ox\\n.xo\\n': 1, '\\nxoo\\n.ox\\nx..\\n': 4, '\\noxo\\n...\\n.x.\\n': 5, '\\no.o\\nx..\\nx..\\n': 2, '\\nxox\\n.x.\\no.o\\n': 8, '\\no..\\n.xx\\n.o.\\n': 4, '\\n..x\\n..x\\noo.\\n': 9, '\\n..o\\nx.o\\noxx\\n': 5, '\\nx.o\\no..\\n..x\\n': 5, '\\noxx\\nxo.\\noox\\n': 6, '\\noxo\\n.xx\\nxoo\\n': 4, '\\noox\\nxo.\\nx..\\n': 8, '\\nxo.\\nx.o\\n...\\n': 7, '\\nxox\\n..x\\noo.\\n': 9, '\\nx..\\no.o\\nx..\\n': 5, '\\n.x.\\n..o\\nx.o\\n': 3, '\\nox.\\nxox\\n.o.\\n': 9, '\\noxo\\n..x\\n.xo\\n': 5, '\\nox.\\noxx\\n.o.\\n': 7, '\\nx.x\\noox\\n..o\\n': 2, '\\n.ox\\noxo\\n.x.\\n': 7, '\\nxxo\\n.o.\\n.ox\\n': 7, '\\nox.\\noxx\\nxoo\\n': 3, '\\nx..\\no.o\\n.x.\\n': 5, '\\nx..\\n.o.\\no.x\\n': 3, '\\nox.\\n.o.\\n.x.\\n': 9, '\\no..\\n.xx\\no..\\n': 4, '\\n...\\n.xo\\nxo.\\n': 3, '\\nx..\\nxo.\\n.o.\\n': 7, '\\n.xo\\nxxo\\no..\\n': 8, '\\no.x\\n..x\\n.o.\\n': 9, '\\nxxo\\no..\\n.xo\\n': 5, '\\n.xo\\n..o\\n.x.\\n': 5, '\\n.xo\\n.ox\\nx.o\\n': 1, '\\n.xx\\no..\\n.o.\\n': 1, '\\n..x\\n.oo\\n.x.\\n': 4, '\\no.x\\no..\\n..x\\n': 6, '\\nxox\\no.x\\n.o.\\n': 9, '\\nxox\\nx.o\\noox\\n': 5, '\\n.o.\\n.xo\\nxxo\\n': 3, '\\n.ox\\n..x\\n.o.\\n': 9, '\\no.o\\nxxo\\nx..\\n': 9, '\\no.x\\nx..\\n..o\\n': 5, '\\nox.\\nxoo\\n.x.\\n': 9, '\\no..\\noox\\nx.x\\n': 3, '\\noxo\\nx.x\\noox\\n': 5, '\\nxxo\\n.o.\\n...\\n': 7, '\\no..\\no.x\\n..x\\n': 3, '\\n.o.\\nox.\\n..x\\n': 1, '\\n.o.\\nox.\\nx..\\n': 3, '\\nxox\\n.oo\\n..x\\n': 8, '\\nx.o\\n...\\n.xo\\n': 6, '\\noox\\n.x.\\n.ox\\n': 6, '\\n.x.\\n.o.\\nox.\\n': 3, '\\n.x.\\nxoo\\n.xo\\n': 3, '\\n.o.\\n.ox\\n..x\\n': 3, '\\no..\\nxx.\\noox\\n': 6, '\\n..x\\n..x\\no.o\\n': 8, '\\n...\\nxxo\\noox\\n': 1, '\\noxo\\n.xo\\nx..\\n': 8, '\\n...\\nxo.\\nx.o\\n': 1, '\\n..x\\noxo\\n...\\n': 7, '\\nox.\\n.o.\\noxx\\n': 4, '\\no.x\\nxxo\\n..o\\n': 7, '\\nx.x\\no.x\\n.oo\\n': 2, '\\nox.\\nxo.\\nxo.\\n': 9, '\\noxo\\nxo.\\nx..\\n': 9, '\\n.o.\\n..o\\nx.x\\n': 8, '\\n.ox\\nxo.\\no.x\\n': 6, '\\noxx\\n...\\no..\\n': 4, '\\n.o.\\nx.x\\no..\\n': 5, '\\n.o.\\nxo.\\nx..\\n': 1, '\\n.x.\\n.oo\\nx..\\n': 4, '\\n.x.\\no..\\nox.\\n': 5, '\\nox.\\noo.\\nx.x\\n': 8, '\\noox\\noxx\\n.xo\\n': 7, '\\n.oo\\n..x\\n..x\\n': 1, '\\noxo\\n..o\\nx.x\\n': 8, '\\n.xo\\n.x.\\n..o\\n': 8, '\\nxxo\\n...\\n..o\\n': 6, '\\no.o\\nxo.\\nx.x\\n': 8, '\\n.o.\\n.x.\\nx.o\\n': 3, '\\n...\\n.x.\\noxo\\n': 2, '\\nx.x\\noo.\\nox.\\n': 2, '\\noxo\\nx.x\\nxoo\\n': 5, '\\noxo\\no..\\nx.x\\n': 8, '\\n.x.\\no.o\\n.x.\\n': 5, '\\noxx\\n.x.\\noo.\\n': 4, '\\nx.o\\n...\\nxo.\\n': 4, '\\n.xo\\n...\\nox.\\n': 5, '\\no.o\\nxo.\\nxx.\\n': 9, '\\nxo.\\noxx\\no..\\n': 9, '\\nxoo\\n.ox\\n.x.\\n': 7, '\\n.xo\\n..x\\no..\\n': 5, '\\noxx\\n..x\\n.oo\\n': 7, '\\n..x\\n.oo\\nx..\\n': 4, '\\nx.o\\noxx\\noxo\\n': 2, '\\noo.\\nx..\\nx..\\n': 3, '\\n.oo\\nx.x\\n...\\n': 5, '\\nx..\\noo.\\n..x\\n': 6, '\\n.x.\\noxo\\n.ox\\n': 1, '\\n..o\\nox.\\n..x\\n': 1, '\\n.ox\\nxox\\n..o\\n': 8, '\\n.xo\\n.o.\\nxxo\\n': 6, '\\no.x\\n.x.\\n..o\\n': 7, '\\n.xo\\nx.x\\n.oo\\n': 5, '\\n.o.\\nx.x\\n..o\\n': 5, '\\n...\\no.o\\n.xx\\n': 7, '\\nox.\\nxx.\\no.o\\n': 8, '\\nx..\\nox.\\nxoo\\n': 3, '\\nox.\\noox\\nxox\\n': 3, '\\nx.o\\n..x\\noxo\\n': 5, '\\n.oo\\nx..\\n..x\\n': 1, '\\n..x\\nxoo\\n.ox\\n': 2, '\\no..\\n.o.\\nxx.\\n': 9, '\\nx..\\n.ox\\no..\\n': 3, '\\nxo.\\n.x.\\no..\\n': 9, '\\n..o\\n.x.\\nx.o\\n': 6, '\\n.x.\\nx..\\n.oo\\n': 7, '\\n.o.\\nxox\\n...\\n': 8, '\\n.xo\\nx..\\noox\\n': 5, '\\no.o\\nxox\\nx..\\n': 2, '\\nxo.\\noxo\\n.x.\\n': 9, '\\nx.x\\n..o\\no..\\n': 2, '\\n...\\n.o.\\noxx\\n': 3, '\\no.x\\no.x\\n.xo\\n': 7, '\\n..x\\no.o\\noxx\\n': 1, '\\no.x\\nxo.\\nox.\\n': 9, '\\no..\\nx..\\n.xo\\n': 5, '\\n.oo\\n.xx\\nox.\\n': 4, '\\noxx\\no.x\\nxoo\\n': 5, '\\noxo\\n.xx\\no..\\n': 8, '\\n..o\\nxxo\\n...\\n': 9, '\\nox.\\nxx.\\n.oo\\n': 6, '\\n..x\\n..o\\nxo.\\n': 5, '\\noxx\\nx..\\noo.\\n': 9, '\\no..\\nxox\\n...\\n': 9, '\\n.ox\\n.o.\\nxxo\\n': 1, '\\nx.x\\noo.\\n...\\n': 2, '\\no.x\\nx..\\noxo\\n': 5, '\\nxx.\\noox\\nxoo\\n': 3, '\\n.xo\\n..o\\noxx\\n': 5, '\\nox.\\nx.o\\nx.o\\n': 3, '\\nox.\\no..\\n.x.\\n': 5, '\\nox.\\nx..\\n..o\\n': 5, '\\n..o\\n.ox\\n.x.\\n': 7, '\\n.xo\\nx..\\no..\\n': 5, '\\n...\\n.ox\\nox.\\n': 3, '\\n..o\\nxox\\n...\\n': 7, '\\n.x.\\noxx\\noo.\\n': 1, '\\noxo\\n.xx\\n.o.\\n': 4, '\\nx..\\n.o.\\nox.\\n': 3, '\\no.x\\n.x.\\n.o.\\n': 7, '\\nxox\\n.o.\\n...\\n': 8, '\\noxo\\nxx.\\noox\\n': 6, '\\n.o.\\nxox\\n.xo\\n': 1, '\\nx.o\\noo.\\nx.x\\n': 8, '\\nxo.\\nxxo\\noxo\\n': 3, '\\n.x.\\nx.o\\nxoo\\n': 1, '\\nxox\\n.ox\\n..o\\n': 8, '\\no.o\\nx.x\\nxo.\\n': 5, '\\no.x\\noxx\\n..o\\n': 7, '\\nx..\\noxx\\no.o\\n': 8, '\\n.x.\\nxxo\\noo.\\n': 9, '\\no.o\\nx..\\n.x.\\n': 2, '\\n.o.\\n...\\nxox\\n': 5, '\\nx..\\nxox\\no.o\\n': 8, '\\n...\\nx.x\\noo.\\n': 5, '\\nx..\\n..o\\n.xo\\n': 3, '\\noo.\\nox.\\nx.x\\n': 8, '\\nxox\\nx..\\no.o\\n': 8, '\\n.x.\\no.o\\nxxo\\n': 5, '\\n.xx\\n..o\\no..\\n': 1, '\\no..\\n..x\\no.x\\n': 3, '\\noo.\\n...\\n.xx\\n': 7, '\\no..\\nxo.\\nx..\\n': 9, '\\n..o\\n..x\\no.x\\n': 5, '\\n.x.\\nxo.\\noxo\\n': 1, '\\nxx.\\n..o\\no..\\n': 3, '\\no.x\\n...\\nxo.\\n': 5, '\\n.xo\\n..o\\nx..\\n': 9, '\\nx.x\\n.ox\\no.o\\n': 2, '\\nxxo\\n.ox\\n..o\\n': 7, '\\n..x\\nxo.\\noxo\\n': 1, '\\nx..\\n.x.\\no.o\\n': 8, '\\nxxo\\n.xo\\no..\\n': 8, '\\nxox\\n.oo\\noxx\\n': 4, '\\n.x.\\nxo.\\no..\\n': 3, '\\nxo.\\n.o.\\noxx\\n': 3, '\\n.o.\\nx.x\\n.o.\\n': 5, '\\n.ox\\no.x\\n...\\n': 9, '\\n.oo\\n..x\\nx..\\n': 1, '\\n.ox\\nx.x\\no.o\\n': 5, '\\n..x\\n.ox\\n..o\\n': 1, '\\nox.\\n.xo\\n...\\n': 8, '\\no..\\noox\\nxx.\\n': 9, '\\nxxo\\noox\\n.xo\\n': 7, '\\n..x\\n.o.\\n.ox\\n': 6, '\\nxoo\\noox\\nx.x\\n': 8, '\\no..\\no..\\nx.x\\n': 8, '\\n..x\\n.ox\\noxo\\n': 1, '\\n..x\\n.ox\\nxoo\\n': 2, '\\n...\\n.o.\\nxxo\\n': 1, '\\n.o.\\nxxo\\n.ox\\n': 1, '\\nxo.\\n.ox\\nx.o\\n': 4, '\\nxoo\\n.ox\\nxxo\\n': 4, '\\no.o\\nxox\\n..x\\n': 2, '\\n.x.\\no.o\\n..x\\n': 5, '\\nox.\\no.x\\nx.o\\n': 5, '\\noox\\n.xo\\noxx\\n': 4, '\\nxxo\\n.x.\\noo.\\n': 9, '\\n.xx\\n.ox\\n.oo\\n': 1, '\\no..\\n.x.\\nox.\\n': 2, '\\nxxo\\n.oo\\n..x\\n': 4, '\\n.xo\\noxo\\n..x\\n': 8, '\\noxo\\n..x\\no.x\\n': 4, '\\n.x.\\noo.\\n..x\\n': 6, '\\nxoo\\n.x.\\nox.\\n': 9, '\\n...\\noxo\\nx..\\n': 3, '\\no..\\nxox\\nxo.\\n': 2, '\\n..x\\noo.\\noxx\\n': 6, '\\no.x\\n..x\\n..o\\n': 5, '\\n.ox\\n...\\nx.o\\n': 5, '\\noxx\\nox.\\n..o\\n': 8, '\\nox.\\n.x.\\nxoo\\n': 3, '\\n...\\nxox\\n..o\\n': 1, '\\n...\\nox.\\nox.\\n': 2, '\\nx.o\\n.ox\\n.xo\\n': 7, '\\n.o.\\nxx.\\n.o.\\n': 6, '\\noxo\\n.xx\\n..o\\n': 8, '\\n.xx\\n..o\\n..o\\n': 1, '\\nxox\\noo.\\n.x.\\n': 6, '\\n..x\\no.o\\n.x.\\n': 5, '\\noo.\\n.x.\\n..x\\n': 3, '\\n.o.\\nxox\\nox.\\n': 3, '\\n.ox\\n.o.\\n..x\\n': 6, '\\n.oo\\n...\\nx.x\\n': 8, '\\n.xo\\nxx.\\no.o\\n': 8, '\\n.o.\\n.ox\\nx..\\n': 8, '\\nox.\\noox\\n..x\\n': 3, '\\n..x\\n.x.\\n.oo\\n': 7, '\\n.oo\\n.x.\\n.x.\\n': 1, '\\n..o\\nxx.\\noox\\n': 6, '\\n.oo\\n...\\n.xx\\n': 7, '\\nxo.\\nxo.\\no.x\\n': 8, '\\n.xo\\nx.o\\n...\\n': 9, '\\noxo\\n.ox\\n.x.\\n': 9, '\\n.ox\\n..x\\nxoo\\n': 5, '\\nxoo\\noox\\n.xx\\n': 7, '\\n.xo\\n.ox\\n...\\n': 7, '\\nxo.\\nxo.\\n.xo\\n': 7, '\\n.ox\\n...\\n.ox\\n': 6, '\\n..x\\n.oo\\nxxo\\n': 4, '\\noxx\\nx.o\\noxo\\n': 5, '\\nxox\\nxo.\\no..\\n': 8, '\\n...\\noxo\\n.x.\\n': 2, '\\n.oo\\nxx.\\n...\\n': 6, '\\n...\\nox.\\nxo.\\n': 3, '\\noxo\\nx.x\\n.o.\\n': 5, '\\nx..\\n.xo\\n.o.\\n': 9, '\\noxx\\n..o\\nx.o\\n': 5, '\\no.x\\n..o\\nxox\\n': 5, '\\no.o\\n..x\\nx..\\n': 2, '\\noxo\\n.o.\\nxx.\\n': 9, '\\noxo\\noxx\\nx.o\\n': 8, '\\n.xo\\nx..\\nxoo\\n': 1, '\\n.oo\\nxxo\\noxx\\n': 1, '\\n.oo\\nxo.\\nxx.\\n': 1, '\\nxoo\\n..x\\no.x\\n': 5, '\\n..o\\nxo.\\n..x\\n': 7, '\\nxxo\\n...\\no..\\n': 5, '\\n..o\\n.ox\\nxxo\\n': 1, '\\noxx\\nx.o\\n..o\\n': 5, '\\n..o\\nx.x\\n..o\\n': 5, '\\no.x\\n.o.\\nx..\\n': 9, '\\n..x\\nxxo\\no.o\\n': 8, '\\n.xo\\n.xo\\nxo.\\n': 9, '\\n...\\noox\\nxxo\\n': 1, '\\nxxo\\nox.\\n.o.\\n': 9, '\\n..o\\n.ox\\nxox\\n': 2, '\\no..\\noxx\\n...\\n': 7, '\\noxo\\nxoo\\n.xx\\n': 7, '\\nxo.\\n...\\n.ox\\n': 5, '\\noox\\n...\\noxx\\n': 6, '\\nox.\\n...\\nox.\\n': 5, '\\n.xo\\nxoo\\n.x.\\n': 9, '\\noxo\\noox\\nx.x\\n': 8, '\\nxx.\\n.o.\\noox\\n': 3, '\\noxo\\nxoo\\nx.x\\n': 8, '\\noo.\\nxx.\\n.xo\\n': 6, '\\n...\\noo.\\nx.x\\n': 8, '\\nx..\\nox.\\no..\\n': 9, '\\noxo\\no.x\\n..x\\n': 7, '\\n.x.\\noo.\\nx..\\n': 6, '\\n.o.\\n..x\\nxo.\\n': 5, '\\noox\\nx.x\\noxo\\n': 5, '\\n..o\\n.xx\\n..o\\n': 4, '\\nxoo\\nxo.\\n.x.\\n': 7, '\\n...\\n.ox\\n.xo\\n': 1, '\\noox\\nx.o\\nxox\\n': 5, '\\nox.\\nox.\\nx.o\\n': 8, '\\n.x.\\n..x\\no.o\\n': 8, '\\noxx\\no.o\\n..x\\n': 7, '\\n.x.\\no.x\\no..\\n': 1, '\\nxox\\n.xo\\no..\\n': 9, '\\noxo\\nxxo\\no.x\\n': 8, '\\n.ox\\noxx\\noxo\\n': 1, '\\nx..\\noo.\\noxx\\n': 6, '\\n.ox\\nxo.\\n...\\n': 8, '\\no..\\nxx.\\nxoo\\n': 6, '\\nxo.\\nxoo\\noxx\\n': 3, '\\no.x\\nx.o\\nx.o\\n': 5, '\\no..\\nxoo\\n.xx\\n': 7, '\\no.x\\no..\\n.x.\\n': 7, '\\nx.x\\noo.\\nx.o\\n': 2, '\\nxxo\\no.o\\nxox\\n': 5, '\\nx.o\\nox.\\n...\\n': 9, '\\noo.\\nx.x\\nox.\\n': 5, '\\nxxo\\n.ox\\nxoo\\n': 4, '\\nx.o\\nx.o\\n...\\n': 7, '\\noo.\\nxox\\noxx\\n': 3, '\\nxxo\\n..x\\no.o\\n': 8, '\\noxo\\n.ox\\n..x\\n': 7, '\\n.x.\\n.o.\\n.xo\\n': 1, '\\noo.\\noxx\\nx..\\n': 3, '\\nxoo\\nx..\\no.x\\n': 5, '\\n...\\nxo.\\no.x\\n': 3, '\\noxo\\n.xo\\n..x\\n': 8, '\\nx.x\\no..\\n.o.\\n': 2, '\\no.o\\n.xx\\no.x\\n': 4, '\\nx..\\n...\\noox\\n': 5, '\\nx.x\\n.oo\\n...\\n': 2, '\\noox\\n.x.\\nox.\\n': 4, '\\noxx\\nxxo\\n.oo\\n': 7, '\\no.o\\n.x.\\n..x\\n': 2, '\\n.oo\\noxx\\n..x\\n': 1, '\\noxx\\n.oo\\n..x\\n': 4, '\\nxx.\\n.oo\\n.ox\\n': 3, '\\n.ox\\noxx\\n..o\\n': 7, '\\nx.o\\n.o.\\n..x\\n': 7, '\\n..x\\nxoo\\n.xo\\n': 1, '\\nox.\\n.oo\\n.xx\\n': 7, '\\n..x\\n.oo\\nxox\\n': 2, '\\nx..\\noxo\\n...\\n': 9, '\\nxo.\\noxx\\n.o.\\n': 9, '\\nxoo\\noxx\\nxo.\\n': 9, '\\nx..\\noo.\\nxxo\\n': 6, '\\n...\\n.oo\\nx.x\\n': 8, '\\no.o\\nx.o\\nx.x\\n': 8, '\\n.x.\\nox.\\n..o\\n': 8, '\\no.o\\nxxo\\n..x\\n': 2, '\\n.x.\\n.ox\\noox\\n': 3, '\\no..\\nox.\\n..x\\n': 7, '\\n..x\\nox.\\no..\\n': 1, '\\nxox\\nxxo\\no.o\\n': 8, '\\n.x.\\nx..\\noo.\\n': 9, '\\n...\\nx..\\nxoo\\n': 1, '\\nxox\\n..o\\n.ox\\n': 5, '\\noo.\\n.x.\\nxxo\\n': 3, '\\nxoo\\n.o.\\nxx.\\n': 4, '\\n..o\\n.x.\\nox.\\n': 2, '\\nx.x\\nox.\\noo.\\n': 2, '\\n..x\\noxx\\no.o\\n': 1, '\\n.xx\\n..o\\noox\\n': 1, '\\noxx\\no..\\n...\\n': 7, '\\n.o.\\noox\\nxx.\\n': 9, '\\nxox\\no.o\\nx..\\n': 5, '\\noox\\nxoo\\n.xx\\n': 7, '\\nx.x\\n.o.\\no..\\n': 2, '\\no..\\n..x\\nox.\\n': 4, '\\nxoo\\nx..\\nox.\\n': 5, '\\n...\\nx.o\\nx.o\\n': 1, '\\n..x\\noox\\n.xo\\n': 1, '\\n.ox\\n..o\\nx..\\n': 5, '\\no..\\n..o\\nxx.\\n': 9, '\\no..\\nox.\\nxox\\n': 3, '\\n.ox\\nxxo\\n.o.\\n': 7, '\\n..o\\nx.x\\no..\\n': 5, '\\noxx\\nxo.\\n.o.\\n': 9, '\\nxx.\\n...\\no.o\\n': 3, '\\nxoo\\n...\\n..x\\n': 5, '\\noxx\\n.oo\\nx..\\n': 4, '\\nxox\\n..o\\no.x\\n': 5, '\\n..x\\n.x.\\no.o\\n': 8, '\\nox.\\no..\\n..x\\n': 7, '\\noo.\\nxxo\\n..x\\n': 3, '\\n.x.\\n..x\\noo.\\n': 9, '\\nx.x\\n...\\noo.\\n': 2, '\\n...\\nxx.\\no.o\\n': 6, '\\noo.\\noxx\\nxxo\\n': 3, '\\no.x\\n.xo\\n.ox\\n': 7, '\\n.xo\\noox\\nxxo\\n': 1, '\\nxox\\n.o.\\no.x\\n': 6, '\\nxxo\\n..x\\noo.\\n': 9, '\\nx..\\nx.o\\noxo\\n': 3, '\\n.xo\\nox.\\n...\\n': 8, '\\n.x.\\noxx\\n.oo\\n': 7, '\\nx.o\\n.x.\\no..\\n': 9, '\\noo.\\nx..\\nxxo\\n': 3, '\\nxoo\\n..o\\nxx.\\n': 4, '\\n..x\\nx..\\n.oo\\n': 7, '\\nx..\\n.oo\\noxx\\n': 4, '\\nx..\\nx..\\no.o\\n': 8, '\\nx..\\n.x.\\n.oo\\n': 7, '\\n.o.\\nx.x\\nxoo\\n': 1, '\\no.o\\nxx.\\n...\\n': 6, '\\nxox\\n.xo\\n..o\\n': 7, '\\nx..\\n.oo\\n..x\\n': 4, '\\noo.\\nxox\\n.x.\\n': 3, '\\n.o.\\nx..\\n.ox\\n': 5, '\\noox\\n..o\\n.xx\\n': 7, '\\no..\\nx.x\\n.o.\\n': 5, '\\no.o\\n..x\\n.x.\\n': 2, '\\n.x.\\noox\\nox.\\n': 1, '\\noxx\\n.oo\\nxox\\n': 4, '\\noxo\\nx..\\nx.o\\n': 6, '\\n.oo\\n.x.\\noxx\\n': 1, '\\no..\\nxo.\\n.x.\\n': 9, '\\n.xo\\n..x\\noxo\\n': 5, '\\n..o\\n..o\\nx.x\\n': 8, '\\nx..\\nxoo\\no.x\\n': 3, '\\nox.\\nxoo\\nx..\\n': 9, '\\nx.o\\n.oo\\nxx.\\n': 4, '\\nxoo\\noox\\nxx.\\n': 9, '\\nx.x\\n.o.\\n..o\\n': 2, '\\n.x.\\noo.\\nxox\\n': 6, '\\n..x\\nx..\\no.o\\n': 8, '\\noo.\\n.xx\\n...\\n': 4, '\\no..\\n.o.\\n.xx\\n': 7, '\\n.oo\\nxx.\\no.x\\n': 6, '\\no.x\\nxoo\\nx..\\n': 9, '\\n.x.\\n.oo\\nxox\\n': 4, '\\no..\\n..x\\n.ox\\n': 3, '\\noxo\\nx..\\no.x\\n': 5, '\\nx..\\noxx\\n.oo\\n': 7, '\\nxo.\\n.xx\\no.o\\n': 4, '\\nxo.\\no.x\\n.ox\\n': 3, '\\nx..\\noxo\\n.xo\\n': 2, '\\n.oo\\nx.o\\n.xx\\n': 7, '\\n.x.\\nxoo\\nox.\\n': 3, '\\n.ox\\nxo.\\n.xo\\n': 1, '\\n.oo\\nx..\\n.x.\\n': 1, '\\nxox\\n...\\n.o.\\n': 5, '\\nxox\\nxxo\\noo.\\n': 9, '\\nx.x\\n.oo\\no.x\\n': 2, '\\nx.o\\nx..\\no..\\n': 5, '\\n..o\\n.xo\\nxox\\n': 1, '\\n.xx\\n.xo\\no.o\\n': 8, '\\nox.\\nxoo\\noxx\\n': 3, '\\nxox\\n.xo\\n.o.\\n': 9, '\\nxx.\\no..\\n..o\\n': 3, '\\nxoo\\n.x.\\n.xo\\n': 6, '\\nxo.\\n.xo\\n...\\n': 9, '\\nxxo\\no..\\nx.o\\n': 6, '\\nxxo\\noo.\\nxox\\n': 6, '\\n.x.\\no.o\\noxx\\n': 5, '\\no..\\no.x\\n.x.\\n': 7, '\\noxx\\no..\\nxo.\\n': 5, '\\n..o\\no.x\\noxx\\n': 1, '\\nox.\\nox.\\n...\\n': 8, '\\n.x.\\n.ox\\noxo\\n': 1, '\\no.o\\noxx\\nxxo\\n': 2, '\\n..x\\n.oo\\n..x\\n': 4, '\\n..x\\n..x\\n.oo\\n': 7, '\\n.x.\\no.o\\nxox\\n': 5, '\\nx.o\\n.o.\\n.x.\\n': 7, '\\no..\\nxx.\\n..o\\n': 6, '\\n..x\\nx.o\\nxoo\\n': 1, '\\n..o\\n.xo\\nx..\\n': 9, '\\nxox\\noo.\\nxxo\\n': 6, '\\nxo.\\no.x\\nxo.\\n': 5, '\\nxx.\\n.oo\\n...\\n': 3, '\\n...\\nox.\\nx.o\\n': 3, '\\n.xo\\n.o.\\n.x.\\n': 7, '\\nx.x\\no..\\no..\\n': 2, '\\nx..\\nx.o\\n.o.\\n': 7, '\\no.o\\n..x\\n..x\\n': 2, '\\n...\\nxx.\\noo.\\n': 6, '\\nx.o\\noxo\\nx..\\n': 9, '\\n.x.\\n.x.\\n.oo\\n': 7, '\\no.o\\nxxo\\noxx\\n': 2, '\\nxo.\\nxxo\\no..\\n': 9, '\\noxo\\nxo.\\n..x\\n': 7, '\\no.x\\n.xo\\nox.\\n': 2, '\\n.ox\\n.ox\\nx.o\\n': 8, '\\noxo\\nx.x\\no..\\n': 5, '\\n...\\n.ox\\nx.o\\n': 1, '\\nx.x\\n.o.\\noxo\\n': 2, '\\noxo\\nxox\\n.ox\\n': 7, '\\nox.\\nxxo\\nxoo\\n': 3, '\\nxox\\no.o\\nxxo\\n': 5, '\\noo.\\nxxo\\noxx\\n': 3, '\\noo.\\n.x.\\nxox\\n': 3, '\\n..o\\nox.\\nxox\\n': 1, '\\noxx\\n.o.\\n...\\n': 9, '\\n.ox\\n.xx\\noo.\\n': 9, '\\noo.\\nxx.\\n...\\n': 6, '\\no..\\nx..\\nx.o\\n': 5}\n"
     ]
    }
   ],
   "source": [
    "print coach.trainingdata"
   ]
  },
  {
   "cell_type": "code",
   "execution_count": 92,
   "metadata": {
    "collapsed": false
   },
   "outputs": [
    {
     "name": "stdout",
     "output_type": "stream",
     "text": [
      "[[0, 0, 0, 0, 0, 0, 1, 0, 0], [0, 0, 0, 0, 0, 0, 0, 0, 1], [0, 1, 0, 0, 0, 0, 0, 0, 0], [0, 0, 1, 0, 0, 0, 0, 0, 0], [0, 0, 0, 0, 0, 1, 0, 0, 0], [0, 0, 0, 0, 1, 0, 0, 0, 0], [0, 0, 0, 0, 1, 0, 0, 0, 0], [0, 0, 0, 0, 1, 0, 0, 0, 0], [0, 0, 0, 0, 0, 0, 1, 0, 0], [0, 0, 0, 0, 1, 0, 0, 0, 0], [0, 0, 0, 0, 0, 0, 0, 0, 1], [0, 0, 0, 0, 0, 0, 0, 1, 0], [0, 1, 0, 0, 0, 0, 0, 0, 0], [1, 0, 0, 0, 0, 0, 0, 0, 0], [0, 0, 0, 0, 0, 0, 0, 0, 1], [0, 0, 0, 0, 0, 0, 0, 0, 1], [0, 0, 1, 0, 0, 0, 0, 0, 0], [0, 0, 1, 0, 0, 0, 0, 0, 0], [0, 0, 0, 0, 0, 0, 1, 0, 0], [0, 0, 0, 0, 1, 0, 0, 0, 0], [0, 0, 0, 0, 1, 0, 0, 0, 0], [0, 0, 0, 0, 0, 0, 0, 0, 1], [0, 0, 0, 1, 0, 0, 0, 0, 0], [0, 1, 0, 0, 0, 0, 0, 0, 0], [0, 0, 1, 0, 0, 0, 0, 0, 0], [1, 0, 0, 0, 0, 0, 0, 0, 0], [0, 0, 0, 0, 0, 0, 0, 0, 1], [0, 0, 0, 0, 1, 0, 0, 0, 0], [0, 0, 0, 0, 1, 0, 0, 0, 0], [0, 0, 0, 0, 1, 0, 0, 0, 0], [0, 0, 0, 0, 0, 1, 0, 0, 0], [0, 0, 0, 0, 0, 0, 0, 0, 1], [0, 0, 0, 0, 0, 0, 0, 1, 0], [0, 0, 0, 0, 0, 0, 0, 1, 0], [1, 0, 0, 0, 0, 0, 0, 0, 0], [0, 0, 0, 0, 0, 1, 0, 0, 0], [0, 0, 0, 0, 0, 0, 0, 1, 0], [0, 0, 0, 0, 0, 0, 0, 0, 1], [0, 0, 0, 0, 0, 0, 1, 0, 0], [0, 0, 0, 0, 1, 0, 0, 0, 0], [0, 0, 0, 0, 0, 0, 0, 1, 0], [0, 0, 0, 0, 0, 0, 0, 0, 1], [0, 1, 0, 0, 0, 0, 0, 0, 0], [0, 0, 1, 0, 0, 0, 0, 0, 0], [0, 0, 0, 1, 0, 0, 0, 0, 0], [0, 0, 0, 0, 0, 1, 0, 0, 0], [0, 0, 0, 0, 0, 0, 1, 0, 0], [0, 0, 1, 0, 0, 0, 0, 0, 0], [1, 0, 0, 0, 0, 0, 0, 0, 0], [0, 0, 0, 0, 0, 1, 0, 0, 0], [0, 0, 0, 1, 0, 0, 0, 0, 0], [1, 0, 0, 0, 0, 0, 0, 0, 0], [0, 1, 0, 0, 0, 0, 0, 0, 0], [0, 1, 0, 0, 0, 0, 0, 0, 0], [0, 0, 0, 0, 0, 0, 0, 0, 1], [0, 0, 0, 0, 0, 0, 0, 0, 1], [0, 1, 0, 0, 0, 0, 0, 0, 0], [0, 0, 0, 0, 0, 1, 0, 0, 0], [0, 1, 0, 0, 0, 0, 0, 0, 0], [0, 0, 1, 0, 0, 0, 0, 0, 0], [0, 0, 0, 0, 0, 0, 1, 0, 0], [1, 0, 0, 0, 0, 0, 0, 0, 0], [0, 0, 1, 0, 0, 0, 0, 0, 0], [1, 0, 0, 0, 0, 0, 0, 0, 0], [0, 1, 0, 0, 0, 0, 0, 0, 0], [0, 0, 0, 0, 1, 0, 0, 0, 0], [0, 0, 0, 0, 0, 1, 0, 0, 0], [0, 0, 1, 0, 0, 0, 0, 0, 0], [0, 0, 0, 0, 0, 0, 0, 0, 1], [0, 0, 0, 0, 0, 0, 0, 1, 0], [1, 0, 0, 0, 0, 0, 0, 0, 0], [0, 0, 0, 0, 0, 1, 0, 0, 0], [0, 0, 0, 0, 0, 0, 0, 1, 0], [0, 0, 1, 0, 0, 0, 0, 0, 0], [1, 0, 0, 0, 0, 0, 0, 0, 0], [0, 0, 0, 0, 1, 0, 0, 0, 0], [0, 0, 1, 0, 0, 0, 0, 0, 0], [0, 0, 1, 0, 0, 0, 0, 0, 0], [0, 0, 0, 0, 1, 0, 0, 0, 0], [0, 0, 0, 0, 0, 0, 0, 0, 1], [0, 0, 0, 0, 0, 1, 0, 0, 0], [0, 0, 0, 1, 0, 0, 0, 0, 0], [0, 0, 0, 0, 0, 0, 1, 0, 0], [0, 0, 0, 0, 0, 0, 1, 0, 0], [0, 0, 0, 0, 0, 1, 0, 0, 0], [0, 0, 0, 1, 0, 0, 0, 0, 0], [1, 0, 0, 0, 0, 0, 0, 0, 0], [0, 0, 0, 0, 0, 1, 0, 0, 0], [0, 0, 0, 0, 0, 0, 0, 1, 0], [1, 0, 0, 0, 0, 0, 0, 0, 0], [0, 0, 1, 0, 0, 0, 0, 0, 0], [0, 0, 0, 0, 0, 1, 0, 0, 0], [0, 0, 0, 0, 0, 0, 0, 0, 1], [0, 0, 1, 0, 0, 0, 0, 0, 0], [0, 0, 1, 0, 0, 0, 0, 0, 0], [0, 0, 0, 0, 0, 0, 0, 1, 0], [0, 0, 1, 0, 0, 0, 0, 0, 0], [0, 0, 1, 0, 0, 0, 0, 0, 0], [0, 0, 0, 0, 0, 1, 0, 0, 0], [0, 0, 0, 0, 1, 0, 0, 0, 0], [0, 0, 1, 0, 0, 0, 0, 0, 0], [0, 0, 0, 0, 0, 0, 0, 1, 0], [1, 0, 0, 0, 0, 0, 0, 0, 0], [0, 0, 0, 1, 0, 0, 0, 0, 0], [0, 0, 0, 0, 1, 0, 0, 0, 0], [0, 1, 0, 0, 0, 0, 0, 0, 0], [0, 0, 0, 0, 0, 0, 0, 1, 0], [0, 0, 1, 0, 0, 0, 0, 0, 0], [0, 1, 0, 0, 0, 0, 0, 0, 0], [0, 0, 0, 0, 0, 0, 0, 0, 1], [0, 0, 0, 1, 0, 0, 0, 0, 0], [1, 0, 0, 0, 0, 0, 0, 0, 0], [0, 0, 0, 0, 0, 1, 0, 0, 0], [0, 0, 1, 0, 0, 0, 0, 0, 0], [0, 0, 0, 0, 0, 0, 0, 0, 1], [0, 0, 0, 0, 0, 0, 1, 0, 0], [0, 0, 0, 0, 0, 0, 0, 0, 1], [0, 0, 0, 0, 1, 0, 0, 0, 0], [1, 0, 0, 0, 0, 0, 0, 0, 0], [0, 0, 0, 1, 0, 0, 0, 0, 0], [0, 0, 1, 0, 0, 0, 0, 0, 0], [0, 0, 0, 0, 0, 0, 0, 0, 1], [0, 1, 0, 0, 0, 0, 0, 0, 0], [0, 0, 1, 0, 0, 0, 0, 0, 0], [0, 0, 0, 0, 0, 0, 1, 0, 0], [0, 1, 0, 0, 0, 0, 0, 0, 0], [1, 0, 0, 0, 0, 0, 0, 0, 0], [0, 1, 0, 0, 0, 0, 0, 0, 0], [0, 0, 0, 1, 0, 0, 0, 0, 0], [1, 0, 0, 0, 0, 0, 0, 0, 0], [1, 0, 0, 0, 0, 0, 0, 0, 0], [0, 0, 0, 0, 0, 0, 0, 1, 0], [0, 0, 0, 0, 0, 0, 0, 0, 1], [0, 0, 0, 1, 0, 0, 0, 0, 0], [0, 0, 0, 0, 0, 0, 0, 0, 1], [0, 0, 0, 0, 0, 0, 0, 1, 0], [0, 0, 0, 0, 1, 0, 0, 0, 0], [0, 0, 0, 1, 0, 0, 0, 0, 0], [0, 0, 0, 0, 0, 0, 0, 0, 1], [0, 0, 0, 0, 0, 1, 0, 0, 0], [0, 0, 0, 0, 0, 0, 0, 0, 1], [0, 0, 0, 1, 0, 0, 0, 0, 0], [0, 0, 0, 0, 0, 1, 0, 0, 0], [0, 0, 0, 0, 0, 0, 0, 0, 1], [0, 1, 0, 0, 0, 0, 0, 0, 0], [0, 0, 0, 0, 0, 0, 0, 1, 0], [0, 0, 0, 0, 0, 0, 0, 1, 0], [0, 0, 1, 0, 0, 0, 0, 0, 0], [0, 0, 1, 0, 0, 0, 0, 0, 0], [0, 0, 0, 0, 0, 0, 0, 0, 1], [0, 0, 0, 0, 1, 0, 0, 0, 0], [0, 0, 0, 1, 0, 0, 0, 0, 0], [0, 0, 0, 0, 0, 0, 1, 0, 0], [0, 0, 1, 0, 0, 0, 0, 0, 0], [0, 0, 1, 0, 0, 0, 0, 0, 0], [0, 0, 0, 0, 0, 0, 0, 0, 1], [1, 0, 0, 0, 0, 0, 0, 0, 0], [0, 0, 0, 0, 0, 0, 0, 0, 1], [0, 0, 0, 0, 0, 0, 1, 0, 0], [0, 0, 0, 0, 0, 1, 0, 0, 0], [0, 0, 0, 0, 1, 0, 0, 0, 0], [1, 0, 0, 0, 0, 0, 0, 0, 0], [0, 0, 0, 1, 0, 0, 0, 0, 0], [0, 0, 0, 1, 0, 0, 0, 0, 0], [1, 0, 0, 0, 0, 0, 0, 0, 0], [0, 0, 0, 0, 1, 0, 0, 0, 0], [0, 0, 0, 0, 0, 0, 0, 0, 1], [1, 0, 0, 0, 0, 0, 0, 0, 0], [0, 0, 1, 0, 0, 0, 0, 0, 0], [1, 0, 0, 0, 0, 0, 0, 0, 0], [0, 0, 1, 0, 0, 0, 0, 0, 0], [0, 0, 0, 0, 0, 1, 0, 0, 0], [0, 0, 0, 1, 0, 0, 0, 0, 0], [0, 0, 0, 0, 0, 0, 0, 0, 1], [0, 0, 0, 0, 0, 1, 0, 0, 0], [0, 0, 0, 0, 0, 0, 0, 1, 0], [0, 0, 0, 0, 0, 0, 1, 0, 0], [0, 0, 0, 0, 0, 0, 1, 0, 0], [1, 0, 0, 0, 0, 0, 0, 0, 0], [0, 1, 0, 0, 0, 0, 0, 0, 0], [0, 0, 0, 0, 0, 0, 1, 0, 0], [0, 0, 0, 0, 0, 0, 0, 1, 0], [0, 0, 0, 0, 1, 0, 0, 0, 0], [0, 0, 0, 0, 1, 0, 0, 0, 0], [1, 0, 0, 0, 0, 0, 0, 0, 0], [1, 0, 0, 0, 0, 0, 0, 0, 0], [0, 0, 1, 0, 0, 0, 0, 0, 0], [0, 1, 0, 0, 0, 0, 0, 0, 0], [1, 0, 0, 0, 0, 0, 0, 0, 0], [0, 0, 0, 0, 0, 0, 1, 0, 0], [0, 0, 0, 0, 0, 0, 0, 0, 1], [1, 0, 0, 0, 0, 0, 0, 0, 0], [0, 1, 0, 0, 0, 0, 0, 0, 0], [0, 0, 0, 0, 1, 0, 0, 0, 0], [0, 0, 0, 0, 1, 0, 0, 0, 0], [0, 1, 0, 0, 0, 0, 0, 0, 0], [1, 0, 0, 0, 0, 0, 0, 0, 0], [0, 0, 0, 0, 0, 1, 0, 0, 0], [0, 0, 0, 0, 1, 0, 0, 0, 0], [0, 0, 0, 0, 1, 0, 0, 0, 0], [0, 0, 0, 0, 0, 0, 1, 0, 0], [0, 0, 0, 0, 1, 0, 0, 0, 0], [0, 0, 0, 1, 0, 0, 0, 0, 0], [0, 0, 1, 0, 0, 0, 0, 0, 0], [0, 1, 0, 0, 0, 0, 0, 0, 0], [0, 0, 0, 0, 0, 0, 0, 0, 1], [0, 0, 0, 0, 0, 0, 1, 0, 0], [0, 1, 0, 0, 0, 0, 0, 0, 0], [0, 0, 1, 0, 0, 0, 0, 0, 0], [0, 0, 1, 0, 0, 0, 0, 0, 0], [0, 0, 0, 0, 0, 1, 0, 0, 0], [0, 0, 0, 0, 1, 0, 0, 0, 0], [0, 0, 0, 0, 0, 1, 0, 0, 0], [0, 0, 0, 0, 0, 0, 1, 0, 0], [1, 0, 0, 0, 0, 0, 0, 0, 0], [0, 0, 0, 0, 0, 0, 0, 0, 1], [0, 0, 0, 0, 0, 0, 0, 1, 0], [0, 0, 0, 0, 0, 0, 0, 0, 1], [0, 0, 0, 0, 0, 0, 0, 0, 1], [0, 0, 0, 0, 0, 0, 1, 0, 0], [1, 0, 0, 0, 0, 0, 0, 0, 0], [0, 0, 0, 0, 0, 0, 1, 0, 0], [1, 0, 0, 0, 0, 0, 0, 0, 0], [0, 0, 0, 0, 0, 0, 0, 0, 1], [0, 0, 0, 0, 1, 0, 0, 0, 0], [0, 0, 0, 0, 0, 0, 0, 0, 1], [0, 0, 0, 0, 0, 0, 0, 0, 1], [0, 1, 0, 0, 0, 0, 0, 0, 0], [0, 0, 0, 0, 1, 0, 0, 0, 0], [0, 0, 0, 0, 0, 1, 0, 0, 0], [0, 0, 0, 1, 0, 0, 0, 0, 0], [0, 0, 0, 0, 1, 0, 0, 0, 0], [0, 0, 0, 0, 0, 0, 0, 1, 0], [0, 1, 0, 0, 0, 0, 0, 0, 0], [0, 1, 0, 0, 0, 0, 0, 0, 0], [0, 0, 0, 0, 1, 0, 0, 0, 0], [0, 1, 0, 0, 0, 0, 0, 0, 0], [0, 0, 0, 0, 0, 0, 0, 1, 0], [0, 0, 0, 0, 0, 0, 1, 0, 0], [0, 0, 0, 0, 0, 0, 0, 1, 0], [0, 0, 0, 0, 1, 0, 0, 0, 0], [0, 1, 0, 0, 0, 0, 0, 0, 0], [0, 0, 0, 0, 0, 0, 1, 0, 0], [0, 0, 0, 0, 0, 0, 0, 1, 0], [0, 0, 0, 0, 0, 0, 0, 0, 1], [0, 1, 0, 0, 0, 0, 0, 0, 0], [0, 0, 1, 0, 0, 0, 0, 0, 0], [0, 1, 0, 0, 0, 0, 0, 0, 0], [0, 0, 0, 0, 0, 0, 0, 0, 1], [0, 0, 0, 0, 0, 0, 0, 1, 0], [0, 0, 0, 0, 0, 0, 0, 0, 1], [0, 0, 0, 0, 1, 0, 0, 0, 0], [0, 0, 0, 0, 0, 1, 0, 0, 0], [0, 0, 0, 0, 0, 1, 0, 0, 0], [0, 0, 0, 0, 0, 1, 0, 0, 0], [0, 0, 0, 0, 0, 0, 0, 1, 0], [0, 1, 0, 0, 0, 0, 0, 0, 0], [0, 0, 0, 0, 0, 0, 0, 0, 1], [0, 0, 0, 0, 0, 0, 0, 1, 0], [0, 0, 0, 0, 0, 0, 0, 1, 0], [0, 0, 0, 0, 0, 0, 0, 0, 1], [1, 0, 0, 0, 0, 0, 0, 0, 0], [1, 0, 0, 0, 0, 0, 0, 0, 0], [1, 0, 0, 0, 0, 0, 0, 0, 0], [0, 1, 0, 0, 0, 0, 0, 0, 0], [0, 0, 0, 0, 0, 0, 0, 0, 1], [0, 0, 0, 0, 0, 1, 0, 0, 0], [0, 0, 0, 0, 1, 0, 0, 0, 0], [0, 0, 0, 0, 0, 1, 0, 0, 0], [0, 0, 0, 0, 0, 0, 0, 0, 1], [0, 0, 0, 0, 0, 0, 0, 1, 0], [0, 0, 0, 0, 0, 1, 0, 0, 0], [0, 0, 0, 1, 0, 0, 0, 0, 0], [0, 0, 0, 0, 1, 0, 0, 0, 0], [0, 0, 0, 0, 0, 0, 0, 0, 1], [0, 0, 1, 0, 0, 0, 0, 0, 0], [0, 1, 0, 0, 0, 0, 0, 0, 0], [0, 0, 0, 0, 0, 1, 0, 0, 0], [0, 0, 0, 0, 0, 0, 0, 1, 0], [0, 0, 0, 0, 0, 1, 0, 0, 0], [0, 0, 0, 0, 1, 0, 0, 0, 0], [0, 0, 0, 0, 0, 0, 0, 0, 1], [0, 0, 1, 0, 0, 0, 0, 0, 0], [0, 0, 0, 0, 1, 0, 0, 0, 0], [0, 0, 0, 0, 1, 0, 0, 0, 0], [1, 0, 0, 0, 0, 0, 0, 0, 0], [0, 0, 1, 0, 0, 0, 0, 0, 0], [0, 1, 0, 0, 0, 0, 0, 0, 0], [0, 0, 0, 0, 1, 0, 0, 0, 0], [0, 0, 0, 1, 0, 0, 0, 0, 0], [0, 0, 0, 0, 0, 1, 0, 0, 0], [0, 0, 1, 0, 0, 0, 0, 0, 0], [0, 0, 0, 0, 0, 0, 1, 0, 0], [0, 0, 0, 0, 1, 0, 0, 0, 0], [0, 0, 0, 0, 0, 0, 1, 0, 0], [0, 1, 0, 0, 0, 0, 0, 0, 0], [1, 0, 0, 0, 0, 0, 0, 0, 0], [0, 0, 0, 0, 1, 0, 0, 0, 0], [0, 0, 0, 0, 1, 0, 0, 0, 0], [0, 0, 0, 1, 0, 0, 0, 0, 0], [0, 0, 0, 0, 1, 0, 0, 0, 0], [0, 0, 0, 1, 0, 0, 0, 0, 0], [0, 1, 0, 0, 0, 0, 0, 0, 0], [1, 0, 0, 0, 0, 0, 0, 0, 0], [0, 0, 0, 1, 0, 0, 0, 0, 0], [1, 0, 0, 0, 0, 0, 0, 0, 0], [0, 0, 0, 1, 0, 0, 0, 0, 0], [0, 0, 0, 0, 1, 0, 0, 0, 0], [0, 1, 0, 0, 0, 0, 0, 0, 0], [0, 0, 0, 0, 0, 0, 0, 1, 0], [0, 0, 0, 1, 0, 0, 0, 0, 0], [0, 0, 0, 0, 0, 0, 0, 0, 1], [0, 0, 0, 0, 1, 0, 0, 0, 0], [0, 0, 0, 0, 1, 0, 0, 0, 0], [0, 0, 0, 0, 0, 1, 0, 0, 0], [0, 0, 0, 1, 0, 0, 0, 0, 0], [0, 0, 0, 0, 0, 0, 0, 1, 0], [0, 0, 0, 0, 0, 0, 1, 0, 0], [0, 0, 0, 0, 0, 0, 0, 0, 1], [0, 0, 0, 0, 1, 0, 0, 0, 0], [0, 0, 1, 0, 0, 0, 0, 0, 0], [0, 0, 0, 0, 0, 0, 0, 0, 1], [0, 0, 0, 0, 1, 0, 0, 0, 0], [0, 0, 0, 0, 0, 0, 1, 0, 0], [0, 1, 0, 0, 0, 0, 0, 0, 0], [0, 0, 0, 0, 0, 0, 1, 0, 0], [0, 0, 0, 0, 0, 0, 1, 0, 0], [0, 0, 1, 0, 0, 0, 0, 0, 0], [0, 0, 0, 0, 1, 0, 0, 0, 0], [0, 0, 1, 0, 0, 0, 0, 0, 0], [0, 0, 0, 0, 0, 0, 0, 0, 1], [0, 0, 0, 1, 0, 0, 0, 0, 0], [0, 0, 1, 0, 0, 0, 0, 0, 0], [0, 0, 0, 0, 0, 0, 1, 0, 0], [0, 0, 0, 0, 0, 0, 0, 1, 0], [0, 0, 0, 0, 0, 0, 0, 0, 1], [0, 0, 0, 0, 1, 0, 0, 0, 0], [0, 0, 0, 0, 1, 0, 0, 0, 0], [1, 0, 0, 0, 0, 0, 0, 0, 0], [1, 0, 0, 0, 0, 0, 0, 0, 0], [0, 0, 0, 1, 0, 0, 0, 0, 0], [0, 0, 0, 0, 0, 1, 0, 0, 0], [0, 0, 0, 0, 0, 0, 0, 0, 1], [0, 0, 0, 0, 1, 0, 0, 0, 0], [0, 0, 1, 0, 0, 0, 0, 0, 0], [0, 0, 0, 0, 0, 0, 0, 0, 1], [0, 0, 0, 0, 0, 0, 0, 0, 1], [0, 0, 0, 0, 1, 0, 0, 0, 0], [0, 0, 0, 0, 0, 0, 0, 0, 1], [0, 0, 1, 0, 0, 0, 0, 0, 0], [0, 0, 0, 0, 1, 0, 0, 0, 0], [0, 0, 0, 0, 0, 0, 1, 0, 0], [0, 0, 1, 0, 0, 0, 0, 0, 0], [1, 0, 0, 0, 0, 0, 0, 0, 0], [0, 0, 1, 0, 0, 0, 0, 0, 0], [0, 0, 0, 0, 0, 0, 0, 1, 0], [0, 0, 0, 0, 0, 1, 0, 0, 0], [0, 0, 0, 0, 0, 1, 0, 0, 0], [0, 0, 1, 0, 0, 0, 0, 0, 0], [0, 0, 1, 0, 0, 0, 0, 0, 0], [0, 0, 1, 0, 0, 0, 0, 0, 0], [0, 0, 0, 0, 0, 1, 0, 0, 0], [0, 0, 0, 0, 0, 0, 0, 1, 0], [1, 0, 0, 0, 0, 0, 0, 0, 0], [0, 0, 0, 0, 0, 0, 0, 1, 0], [1, 0, 0, 0, 0, 0, 0, 0, 0], [0, 0, 0, 0, 0, 0, 1, 0, 0], [0, 0, 0, 1, 0, 0, 0, 0, 0], [0, 0, 0, 0, 0, 0, 1, 0, 0], [0, 1, 0, 0, 0, 0, 0, 0, 0], [0, 0, 0, 0, 0, 0, 0, 0, 1], [0, 0, 0, 0, 0, 0, 0, 0, 1], [0, 0, 0, 0, 0, 0, 0, 1, 0], [0, 0, 0, 0, 0, 1, 0, 0, 0], [0, 0, 0, 1, 0, 0, 0, 0, 0], [0, 0, 0, 0, 1, 0, 0, 0, 0], [1, 0, 0, 0, 0, 0, 0, 0, 0], [0, 0, 0, 1, 0, 0, 0, 0, 0], [0, 0, 0, 0, 1, 0, 0, 0, 0], [0, 0, 0, 0, 0, 0, 0, 1, 0], [0, 0, 0, 0, 0, 0, 1, 0, 0], [1, 0, 0, 0, 0, 0, 0, 0, 0], [0, 0, 0, 0, 0, 0, 0, 1, 0], [0, 0, 0, 0, 0, 0, 0, 1, 0], [0, 0, 0, 0, 0, 1, 0, 0, 0], [0, 0, 0, 0, 0, 0, 0, 1, 0], [0, 0, 1, 0, 0, 0, 0, 0, 0], [0, 1, 0, 0, 0, 0, 0, 0, 0], [0, 1, 0, 0, 0, 0, 0, 0, 0], [0, 0, 0, 0, 1, 0, 0, 0, 0], [0, 0, 0, 0, 0, 0, 0, 1, 0], [0, 0, 0, 0, 1, 0, 0, 0, 0], [0, 0, 0, 1, 0, 0, 0, 0, 0], [0, 0, 0, 1, 0, 0, 0, 0, 0], [0, 0, 0, 0, 1, 0, 0, 0, 0], [0, 0, 0, 0, 0, 0, 0, 0, 1], [0, 0, 0, 0, 0, 0, 0, 0, 1], [0, 0, 0, 0, 0, 0, 1, 0, 0], [0, 0, 0, 0, 1, 0, 0, 0, 0], [0, 0, 0, 0, 0, 0, 1, 0, 0], [0, 0, 0, 1, 0, 0, 0, 0, 0], [0, 1, 0, 0, 0, 0, 0, 0, 0], [0, 0, 1, 0, 0, 0, 0, 0, 0], [0, 0, 0, 0, 1, 0, 0, 0, 0], [0, 0, 0, 0, 0, 1, 0, 0, 0], [1, 0, 0, 0, 0, 0, 0, 0, 0], [1, 0, 0, 0, 0, 0, 0, 0, 0], [0, 0, 0, 0, 0, 0, 0, 1, 0], [0, 0, 0, 0, 0, 1, 0, 0, 0], [0, 0, 0, 0, 0, 0, 1, 0, 0], [0, 0, 0, 0, 1, 0, 0, 0, 0], [0, 0, 0, 0, 1, 0, 0, 0, 0], [0, 0, 0, 0, 0, 0, 1, 0, 0], [0, 0, 0, 0, 0, 0, 0, 1, 0], [0, 0, 1, 0, 0, 0, 0, 0, 0], [0, 0, 1, 0, 0, 0, 0, 0, 0], [0, 0, 0, 0, 1, 0, 0, 0, 0], [1, 0, 0, 0, 0, 0, 0, 0, 0], [0, 1, 0, 0, 0, 0, 0, 0, 0], [0, 0, 0, 0, 0, 0, 0, 0, 1], [0, 0, 1, 0, 0, 0, 0, 0, 0], [0, 0, 0, 0, 0, 0, 0, 0, 1], [0, 0, 0, 0, 0, 1, 0, 0, 0], [0, 0, 0, 0, 0, 0, 1, 0, 0], [0, 0, 0, 0, 0, 0, 0, 1, 0], [0, 0, 0, 0, 1, 0, 0, 0, 0], [0, 1, 0, 0, 0, 0, 0, 0, 0], [0, 0, 0, 0, 0, 0, 0, 0, 1], [0, 1, 0, 0, 0, 0, 0, 0, 0], [0, 0, 1, 0, 0, 0, 0, 0, 0], [0, 0, 0, 0, 0, 0, 1, 0, 0], [1, 0, 0, 0, 0, 0, 0, 0, 0], [0, 0, 0, 0, 0, 0, 0, 0, 1], [0, 0, 0, 0, 1, 0, 0, 0, 0], [0, 0, 0, 1, 0, 0, 0, 0, 0], [0, 0, 0, 0, 1, 0, 0, 0, 0], [0, 0, 0, 0, 0, 0, 0, 1, 0], [0, 0, 0, 0, 0, 0, 0, 0, 1], [0, 0, 0, 0, 0, 1, 0, 0, 0], [0, 0, 0, 0, 1, 0, 0, 0, 0], [0, 0, 0, 0, 0, 0, 0, 0, 1], [0, 0, 0, 0, 0, 0, 0, 0, 1], [1, 0, 0, 0, 0, 0, 0, 0, 0], [0, 1, 0, 0, 0, 0, 0, 0, 0], [0, 0, 0, 0, 1, 0, 0, 0, 0], [0, 0, 1, 0, 0, 0, 0, 0, 0], [0, 0, 0, 0, 1, 0, 0, 0, 0], [0, 0, 1, 0, 0, 0, 0, 0, 0], [0, 0, 0, 0, 1, 0, 0, 0, 0], [0, 0, 0, 0, 1, 0, 0, 0, 0], [0, 0, 0, 0, 0, 0, 1, 0, 0], [0, 0, 0, 0, 1, 0, 0, 0, 0], [0, 0, 1, 0, 0, 0, 0, 0, 0], [0, 0, 0, 0, 0, 0, 1, 0, 0], [1, 0, 0, 0, 0, 0, 0, 0, 0], [0, 0, 0, 1, 0, 0, 0, 0, 0], [0, 0, 1, 0, 0, 0, 0, 0, 0], [0, 0, 0, 0, 0, 0, 1, 0, 0], [0, 0, 0, 0, 0, 0, 0, 1, 0], [0, 0, 0, 0, 0, 1, 0, 0, 0], [1, 0, 0, 0, 0, 0, 0, 0, 0], [0, 0, 0, 0, 0, 0, 0, 1, 0], [0, 0, 1, 0, 0, 0, 0, 0, 0], [1, 0, 0, 0, 0, 0, 0, 0, 0], [0, 0, 0, 0, 0, 0, 0, 1, 0], [0, 0, 0, 0, 1, 0, 0, 0, 0], [0, 0, 0, 0, 0, 0, 1, 0, 0], [0, 0, 0, 0, 0, 0, 0, 1, 0], [0, 0, 0, 0, 0, 0, 0, 0, 1], [0, 1, 0, 0, 0, 0, 0, 0, 0], [0, 0, 0, 0, 1, 0, 0, 0, 0], [0, 0, 0, 0, 0, 0, 0, 1, 0], [0, 0, 0, 0, 1, 0, 0, 0, 0], [0, 0, 1, 0, 0, 0, 0, 0, 0], [0, 0, 0, 0, 0, 0, 0, 1, 0], [0, 0, 0, 0, 0, 0, 0, 1, 0], [0, 0, 0, 0, 1, 0, 0, 0, 0], [1, 0, 0, 0, 0, 0, 0, 0, 0], [0, 0, 1, 0, 0, 0, 0, 0, 0], [0, 0, 0, 0, 0, 0, 1, 0, 0], [0, 0, 0, 0, 0, 0, 0, 0, 1], [0, 0, 0, 0, 1, 0, 0, 0, 0], [1, 0, 0, 0, 0, 0, 0, 0, 0], [0, 0, 1, 0, 0, 0, 0, 0, 0], [0, 0, 0, 0, 1, 0, 0, 0, 0], [0, 0, 0, 0, 0, 0, 0, 0, 1], [0, 1, 0, 0, 0, 0, 0, 0, 0], [0, 0, 0, 0, 0, 0, 1, 0, 0], [1, 0, 0, 0, 0, 0, 0, 0, 0], [0, 0, 0, 0, 0, 0, 0, 1, 0], [0, 0, 0, 0, 0, 0, 0, 1, 0], [0, 0, 0, 1, 0, 0, 0, 0, 0], [0, 0, 1, 0, 0, 0, 0, 0, 0], [0, 0, 1, 0, 0, 0, 0, 0, 0], [0, 0, 0, 0, 1, 0, 0, 0, 0], [0, 0, 0, 0, 0, 0, 0, 0, 1], [1, 0, 0, 0, 0, 0, 0, 0, 0], [0, 0, 0, 0, 1, 0, 0, 0, 0], [1, 0, 0, 0, 0, 0, 0, 0, 0], [0, 0, 0, 0, 0, 0, 0, 1, 0], [0, 0, 0, 0, 0, 0, 0, 0, 1], [0, 0, 0, 0, 0, 0, 1, 0, 0], [0, 0, 0, 0, 0, 1, 0, 0, 0], [0, 0, 0, 0, 0, 0, 0, 1, 0], [0, 0, 0, 0, 0, 0, 0, 1, 0], [1, 0, 0, 0, 0, 0, 0, 0, 0], [0, 1, 0, 0, 0, 0, 0, 0, 0], [1, 0, 0, 0, 0, 0, 0, 0, 0], [1, 0, 0, 0, 0, 0, 0, 0, 0], [0, 0, 0, 1, 0, 0, 0, 0, 0], [0, 0, 0, 1, 0, 0, 0, 0, 0], [0, 1, 0, 0, 0, 0, 0, 0, 0], [0, 0, 0, 0, 1, 0, 0, 0, 0], [0, 0, 0, 0, 1, 0, 0, 0, 0], [0, 0, 0, 1, 0, 0, 0, 0, 0], [0, 0, 0, 0, 0, 0, 0, 0, 1], [1, 0, 0, 0, 0, 0, 0, 0, 0], [0, 1, 0, 0, 0, 0, 0, 0, 0], [0, 0, 0, 1, 0, 0, 0, 0, 0], [0, 0, 0, 0, 0, 0, 0, 1, 0], [0, 0, 0, 1, 0, 0, 0, 0, 0], [0, 0, 0, 0, 0, 1, 0, 0, 0], [0, 0, 0, 0, 0, 0, 0, 0, 1], [0, 0, 1, 0, 0, 0, 0, 0, 0], [0, 1, 0, 0, 0, 0, 0, 0, 0], [0, 0, 0, 0, 0, 1, 0, 0, 0], [0, 0, 0, 0, 1, 0, 0, 0, 0], [0, 0, 0, 0, 1, 0, 0, 0, 0], [0, 0, 0, 0, 0, 0, 0, 1, 0], [0, 0, 1, 0, 0, 0, 0, 0, 0], [1, 0, 0, 0, 0, 0, 0, 0, 0], [0, 1, 0, 0, 0, 0, 0, 0, 0], [0, 0, 0, 0, 0, 0, 1, 0, 0], [0, 0, 0, 0, 0, 1, 0, 0, 0], [0, 0, 0, 0, 0, 0, 0, 1, 0], [1, 0, 0, 0, 0, 0, 0, 0, 0], [0, 0, 0, 0, 0, 1, 0, 0, 0], [0, 0, 0, 0, 1, 0, 0, 0, 0], [0, 0, 1, 0, 0, 0, 0, 0, 0], [0, 0, 1, 0, 0, 0, 0, 0, 0], [0, 0, 0, 0, 0, 1, 0, 0, 0], [0, 0, 0, 0, 0, 0, 0, 1, 0], [0, 0, 0, 0, 0, 0, 0, 1, 0], [0, 0, 0, 0, 0, 0, 0, 1, 0], [0, 0, 1, 0, 0, 0, 0, 0, 0], [0, 0, 0, 0, 0, 0, 1, 0, 0], [1, 0, 0, 0, 0, 0, 0, 0, 0], [0, 0, 0, 0, 0, 1, 0, 0, 0], [0, 0, 0, 0, 0, 0, 1, 0, 0], [0, 0, 0, 0, 0, 0, 0, 1, 0], [0, 0, 0, 0, 0, 0, 0, 0, 1], [0, 0, 0, 0, 0, 0, 0, 0, 1], [0, 0, 0, 0, 1, 0, 0, 0, 0], [0, 0, 0, 0, 0, 0, 1, 0, 0], [0, 0, 0, 0, 0, 0, 1, 0, 0], [0, 0, 0, 0, 0, 0, 1, 0, 0], [0, 0, 0, 0, 0, 1, 0, 0, 0], [0, 0, 0, 1, 0, 0, 0, 0, 0], [0, 0, 0, 0, 1, 0, 0, 0, 0], [0, 0, 0, 0, 0, 0, 0, 1, 0], [0, 1, 0, 0, 0, 0, 0, 0, 0], [0, 0, 0, 0, 0, 1, 0, 0, 0], [0, 0, 1, 0, 0, 0, 0, 0, 0], [0, 0, 0, 0, 1, 0, 0, 0, 0], [0, 0, 0, 0, 0, 0, 0, 0, 1], [0, 0, 0, 0, 1, 0, 0, 0, 0], [0, 0, 0, 0, 1, 0, 0, 0, 0], [0, 1, 0, 0, 0, 0, 0, 0, 0], [0, 0, 0, 0, 0, 0, 0, 0, 1], [0, 0, 0, 0, 0, 0, 0, 1, 0], [1, 0, 0, 0, 0, 0, 0, 0, 0], [1, 0, 0, 0, 0, 0, 0, 0, 0], [1, 0, 0, 0, 0, 0, 0, 0, 0], [0, 0, 0, 0, 1, 0, 0, 0, 0], [0, 0, 0, 0, 0, 0, 1, 0, 0], [0, 0, 0, 0, 1, 0, 0, 0, 0], [1, 0, 0, 0, 0, 0, 0, 0, 0], [0, 0, 0, 0, 1, 0, 0, 0, 0], [0, 0, 0, 0, 1, 0, 0, 0, 0], [0, 0, 0, 0, 0, 0, 0, 0, 1], [0, 0, 0, 0, 0, 0, 0, 1, 0], [0, 0, 0, 0, 0, 0, 0, 0, 1], [1, 0, 0, 0, 0, 0, 0, 0, 0], [0, 0, 0, 0, 0, 0, 0, 0, 1], [0, 1, 0, 0, 0, 0, 0, 0, 0], [0, 0, 0, 0, 0, 0, 1, 0, 0], [0, 0, 0, 0, 0, 0, 1, 0, 0], [0, 0, 0, 0, 1, 0, 0, 0, 0], [0, 0, 0, 0, 0, 1, 0, 0, 0], [0, 0, 0, 0, 1, 0, 0, 0, 0], [0, 0, 0, 0, 0, 0, 0, 0, 1], [0, 0, 0, 0, 0, 0, 0, 1, 0], [0, 0, 1, 0, 0, 0, 0, 0, 0], [0, 0, 0, 0, 0, 0, 0, 1, 0], [0, 0, 0, 0, 0, 1, 0, 0, 0], [0, 0, 0, 0, 0, 0, 0, 1, 0], [0, 0, 0, 0, 0, 0, 0, 0, 1], [0, 0, 0, 0, 0, 0, 1, 0, 0], [0, 0, 0, 0, 0, 1, 0, 0, 0], [0, 0, 0, 0, 1, 0, 0, 0, 0], [0, 0, 0, 0, 1, 0, 0, 0, 0], [0, 0, 0, 1, 0, 0, 0, 0, 0], [0, 0, 0, 0, 0, 0, 1, 0, 0], [1, 0, 0, 0, 0, 0, 0, 0, 0], [0, 0, 0, 0, 1, 0, 0, 0, 0], [0, 0, 0, 0, 0, 0, 0, 1, 0], [0, 0, 0, 0, 0, 0, 0, 1, 0], [0, 0, 0, 0, 0, 0, 1, 0, 0], [1, 0, 0, 0, 0, 0, 0, 0, 0], [0, 0, 0, 0, 0, 0, 0, 0, 1], [0, 0, 0, 0, 0, 0, 0, 1, 0], [1, 0, 0, 0, 0, 0, 0, 0, 0], [0, 0, 0, 0, 0, 1, 0, 0, 0], [0, 0, 0, 0, 0, 0, 0, 1, 0], [0, 0, 0, 0, 0, 1, 0, 0, 0], [0, 0, 1, 0, 0, 0, 0, 0, 0], [0, 0, 0, 0, 1, 0, 0, 0, 0], [0, 0, 0, 0, 0, 0, 1, 0, 0], [0, 0, 0, 0, 0, 0, 1, 0, 0], [0, 1, 0, 0, 0, 0, 0, 0, 0], [0, 0, 0, 0, 1, 0, 0, 0, 0], [0, 0, 0, 0, 0, 0, 0, 0, 1], [0, 0, 0, 0, 1, 0, 0, 0, 0], [0, 0, 0, 1, 0, 0, 0, 0, 0], [0, 0, 0, 0, 0, 0, 1, 0, 0], [0, 0, 1, 0, 0, 0, 0, 0, 0], [0, 0, 0, 0, 0, 0, 0, 1, 0], [0, 0, 0, 0, 0, 0, 1, 0, 0], [1, 0, 0, 0, 0, 0, 0, 0, 0], [0, 0, 1, 0, 0, 0, 0, 0, 0], [0, 0, 0, 0, 1, 0, 0, 0, 0], [0, 0, 1, 0, 0, 0, 0, 0, 0], [0, 0, 0, 0, 0, 0, 0, 1, 0], [0, 1, 0, 0, 0, 0, 0, 0, 0], [0, 0, 0, 1, 0, 0, 0, 0, 0], [0, 0, 0, 0, 1, 0, 0, 0, 0], [0, 1, 0, 0, 0, 0, 0, 0, 0], [0, 0, 0, 1, 0, 0, 0, 0, 0], [0, 0, 0, 0, 0, 0, 1, 0, 0], [0, 1, 0, 0, 0, 0, 0, 0, 0], [1, 0, 0, 0, 0, 0, 0, 0, 0], [0, 0, 0, 1, 0, 0, 0, 0, 0], [0, 0, 1, 0, 0, 0, 0, 0, 0], [0, 0, 0, 0, 0, 0, 1, 0, 0], [0, 0, 0, 0, 0, 0, 1, 0, 0], [1, 0, 0, 0, 0, 0, 0, 0, 0], [0, 0, 0, 0, 0, 0, 1, 0, 0], [0, 1, 0, 0, 0, 0, 0, 0, 0], [0, 0, 0, 0, 0, 0, 0, 0, 1], [0, 0, 0, 0, 0, 0, 0, 0, 1], [0, 0, 0, 0, 0, 0, 0, 0, 1], [0, 0, 0, 0, 0, 1, 0, 0, 0], [0, 0, 0, 0, 0, 0, 0, 1, 0], [0, 0, 0, 0, 0, 0, 0, 1, 0], [0, 0, 0, 0, 0, 0, 0, 1, 0], [0, 1, 0, 0, 0, 0, 0, 0, 0], [0, 0, 1, 0, 0, 0, 0, 0, 0], [0, 0, 0, 0, 0, 0, 1, 0, 0], [1, 0, 0, 0, 0, 0, 0, 0, 0], [0, 0, 0, 0, 0, 0, 0, 1, 0], [0, 0, 0, 0, 0, 0, 0, 0, 1], [1, 0, 0, 0, 0, 0, 0, 0, 0], [0, 0, 0, 0, 1, 0, 0, 0, 0], [0, 0, 1, 0, 0, 0, 0, 0, 0], [0, 0, 0, 1, 0, 0, 0, 0, 0], [0, 1, 0, 0, 0, 0, 0, 0, 0], [0, 1, 0, 0, 0, 0, 0, 0, 0], [1, 0, 0, 0, 0, 0, 0, 0, 0], [1, 0, 0, 0, 0, 0, 0, 0, 0], [0, 0, 0, 0, 0, 0, 1, 0, 0], [0, 0, 0, 0, 0, 0, 0, 0, 1], [0, 0, 0, 0, 1, 0, 0, 0, 0], [0, 0, 0, 0, 0, 0, 1, 0, 0], [0, 1, 0, 0, 0, 0, 0, 0, 0], [0, 0, 0, 1, 0, 0, 0, 0, 0], [0, 0, 0, 0, 1, 0, 0, 0, 0], [1, 0, 0, 0, 0, 0, 0, 0, 0], [1, 0, 0, 0, 0, 0, 0, 0, 0], [0, 0, 0, 0, 1, 0, 0, 0, 0], [0, 0, 0, 0, 0, 0, 0, 0, 1], [0, 0, 1, 0, 0, 0, 0, 0, 0], [0, 0, 0, 0, 0, 0, 1, 0, 0], [0, 0, 0, 0, 1, 0, 0, 0, 0], [0, 0, 0, 0, 0, 0, 0, 0, 1], [0, 0, 1, 0, 0, 0, 0, 0, 0], [0, 0, 0, 0, 1, 0, 0, 0, 0], [0, 0, 0, 1, 0, 0, 0, 0, 0], [0, 0, 0, 0, 1, 0, 0, 0, 0], [0, 0, 0, 0, 0, 0, 0, 1, 0], [0, 0, 0, 0, 0, 0, 1, 0, 0], [0, 0, 1, 0, 0, 0, 0, 0, 0], [0, 0, 0, 0, 0, 0, 0, 0, 1], [0, 1, 0, 0, 0, 0, 0, 0, 0], [0, 0, 0, 0, 0, 1, 0, 0, 0], [0, 0, 1, 0, 0, 0, 0, 0, 0], [0, 0, 0, 0, 0, 0, 1, 0, 0], [1, 0, 0, 0, 0, 0, 0, 0, 0], [0, 0, 0, 0, 0, 1, 0, 0, 0], [0, 0, 0, 0, 0, 0, 0, 0, 1], [0, 0, 1, 0, 0, 0, 0, 0, 0], [0, 0, 0, 0, 0, 0, 0, 1, 0], [0, 0, 0, 0, 0, 0, 1, 0, 0], [0, 0, 0, 0, 0, 0, 0, 0, 1], [0, 0, 1, 0, 0, 0, 0, 0, 0], [0, 0, 0, 1, 0, 0, 0, 0, 0], [0, 0, 0, 0, 0, 0, 1, 0, 0], [0, 0, 0, 1, 0, 0, 0, 0, 0], [0, 0, 0, 0, 0, 0, 0, 1, 0], [0, 0, 0, 0, 0, 0, 1, 0, 0], [1, 0, 0, 0, 0, 0, 0, 0, 0], [0, 0, 0, 0, 0, 1, 0, 0, 0], [0, 0, 0, 0, 0, 0, 1, 0, 0], [0, 0, 0, 1, 0, 0, 0, 0, 0], [0, 0, 1, 0, 0, 0, 0, 0, 0], [0, 0, 0, 0, 1, 0, 0, 0, 0], [0, 0, 0, 0, 0, 0, 1, 0, 0], [0, 0, 0, 0, 1, 0, 0, 0, 0], [0, 1, 0, 0, 0, 0, 0, 0, 0], [1, 0, 0, 0, 0, 0, 0, 0, 0], [0, 0, 0, 1, 0, 0, 0, 0, 0], [0, 0, 0, 0, 0, 1, 0, 0, 0], [1, 0, 0, 0, 0, 0, 0, 0, 0], [0, 0, 0, 0, 0, 0, 0, 0, 1], [0, 0, 0, 0, 1, 0, 0, 0, 0], [0, 0, 0, 0, 0, 0, 0, 1, 0], [0, 0, 1, 0, 0, 0, 0, 0, 0], [0, 0, 0, 0, 0, 0, 0, 0, 1], [0, 0, 0, 1, 0, 0, 0, 0, 0], [0, 0, 0, 0, 0, 0, 0, 0, 1], [0, 1, 0, 0, 0, 0, 0, 0, 0], [0, 0, 0, 0, 0, 1, 0, 0, 0], [0, 0, 0, 0, 0, 0, 0, 1, 0], [0, 0, 0, 1, 0, 0, 0, 0, 0], [0, 0, 0, 0, 0, 0, 1, 0, 0], [0, 0, 0, 0, 0, 1, 0, 0, 0], [0, 0, 0, 0, 0, 0, 0, 0, 1], [0, 0, 0, 1, 0, 0, 0, 0, 0], [0, 0, 1, 0, 0, 0, 0, 0, 0], [0, 0, 0, 0, 1, 0, 0, 0, 0], [0, 0, 0, 0, 0, 0, 1, 0, 0], [0, 0, 0, 1, 0, 0, 0, 0, 0], [0, 0, 1, 0, 0, 0, 0, 0, 0], [0, 1, 0, 0, 0, 0, 0, 0, 0], [0, 0, 0, 0, 0, 0, 1, 0, 0], [0, 0, 1, 0, 0, 0, 0, 0, 0], [1, 0, 0, 0, 0, 0, 0, 0, 0], [1, 0, 0, 0, 0, 0, 0, 0, 0], [0, 0, 0, 0, 1, 0, 0, 0, 0], [0, 0, 0, 0, 0, 0, 0, 0, 1], [0, 1, 0, 0, 0, 0, 0, 0, 0], [0, 0, 0, 0, 1, 0, 0, 0, 0], [1, 0, 0, 0, 0, 0, 0, 0, 0], [0, 0, 0, 0, 0, 0, 0, 1, 0], [0, 0, 1, 0, 0, 0, 0, 0, 0], [0, 0, 0, 0, 0, 0, 0, 0, 1], [0, 0, 1, 0, 0, 0, 0, 0, 0], [0, 0, 0, 0, 0, 1, 0, 0, 0], [0, 0, 0, 0, 0, 0, 0, 0, 1], [0, 0, 0, 0, 0, 1, 0, 0, 0], [0, 0, 0, 0, 0, 1, 0, 0, 0], [0, 0, 0, 0, 1, 0, 0, 0, 0], [0, 0, 0, 0, 0, 0, 1, 0, 0], [0, 0, 0, 0, 1, 0, 0, 0, 0], [1, 0, 0, 0, 0, 0, 0, 0, 0], [0, 0, 0, 0, 0, 0, 0, 1, 0], [1, 0, 0, 0, 0, 0, 0, 0, 0], [0, 1, 0, 0, 0, 0, 0, 0, 0], [0, 0, 0, 1, 0, 0, 0, 0, 0], [0, 0, 0, 0, 0, 0, 1, 0, 0], [0, 0, 0, 0, 1, 0, 0, 0, 0], [0, 0, 0, 0, 0, 0, 1, 0, 0], [0, 0, 0, 0, 0, 1, 0, 0, 0], [1, 0, 0, 0, 0, 0, 0, 0, 0], [0, 0, 0, 0, 0, 0, 0, 0, 1], [0, 0, 0, 0, 0, 1, 0, 0, 0], [0, 0, 0, 0, 1, 0, 0, 0, 0], [0, 0, 1, 0, 0, 0, 0, 0, 0], [0, 0, 1, 0, 0, 0, 0, 0, 0], [0, 0, 0, 0, 0, 0, 1, 0, 0], [0, 1, 0, 0, 0, 0, 0, 0, 0], [0, 0, 0, 0, 0, 0, 1, 0, 0], [0, 1, 0, 0, 0, 0, 0, 0, 0], [0, 0, 0, 0, 0, 1, 0, 0, 0], [0, 0, 0, 0, 0, 0, 0, 0, 1], [0, 0, 0, 0, 0, 0, 1, 0, 0], [0, 1, 0, 0, 0, 0, 0, 0, 0], [0, 0, 0, 0, 0, 0, 0, 0, 1], [0, 0, 0, 0, 0, 0, 1, 0, 0], [0, 1, 0, 0, 0, 0, 0, 0, 0], [0, 0, 0, 0, 0, 0, 0, 1, 0], [0, 0, 0, 0, 1, 0, 0, 0, 0], [1, 0, 0, 0, 0, 0, 0, 0, 0], [0, 1, 0, 0, 0, 0, 0, 0, 0], [0, 0, 0, 0, 0, 0, 1, 0, 0], [0, 0, 1, 0, 0, 0, 0, 0, 0], [0, 0, 0, 0, 1, 0, 0, 0, 0], [0, 0, 1, 0, 0, 0, 0, 0, 0], [0, 0, 1, 0, 0, 0, 0, 0, 0], [1, 0, 0, 0, 0, 0, 0, 0, 0], [0, 0, 0, 0, 0, 0, 0, 0, 1], [0, 0, 0, 0, 0, 0, 0, 0, 1], [0, 0, 0, 0, 0, 1, 0, 0, 0], [0, 0, 0, 0, 1, 0, 0, 0, 0]]\n"
     ]
    }
   ],
   "source": [
    "print goal"
   ]
  },
  {
   "cell_type": "code",
   "execution_count": null,
   "metadata": {
    "collapsed": true
   },
   "outputs": [],
   "source": []
  }
 ],
 "metadata": {
  "kernelspec": {
   "display_name": "Python [Root]",
   "language": "python",
   "name": "Python [Root]"
  },
  "language_info": {
   "codemirror_mode": {
    "name": "ipython",
    "version": 2
   },
   "file_extension": ".py",
   "mimetype": "text/x-python",
   "name": "python",
   "nbconvert_exporter": "python",
   "pygments_lexer": "ipython2",
   "version": "2.7.12"
  }
 },
 "nbformat": 4,
 "nbformat_minor": 0
}
