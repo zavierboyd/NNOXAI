{
 "cells": [
  {
   "cell_type": "code",
   "execution_count": 1,
   "metadata": {
    "collapsed": true
   },
   "outputs": [],
   "source": [
    "from __future__ import division\n",
    "from numpy.random import random, randint\n",
    "from random import choice\n",
    "import numpy as np\n",
    "from numpy import dot, array\n",
    "from neuralnet2 import *"
   ]
  },
  {
   "cell_type": "code",
   "execution_count": 2,
   "metadata": {
    "collapsed": false
   },
   "outputs": [
    {
     "name": "stdout",
     "output_type": "stream",
     "text": [
      "[[[1, 1] [0, 0] [1, 1] [1, 0] [0, 0] [0, 0] [1, 0] [0, 0] [1, 0] [1, 1]\n",
      "  [1, 0] [0, 0] [0, 1] [0, 1] [1, 0] [1, 1] [0, 1] [1, 1] [1, 1] [1, 0]]\n",
      " [-1 -1 -1 1 -1 -1 1 -1 1 -1 1 -1 1 1 1 -1 1 -1 -1 1]]\n",
      "[[1 1]\n",
      " [0 0]\n",
      " [1 1]\n",
      " [1 0]\n",
      " [0 0]\n",
      " [0 0]\n",
      " [1 0]\n",
      " [0 0]\n",
      " [1 0]\n",
      " [1 1]\n",
      " [1 0]\n",
      " [0 0]\n",
      " [0 1]\n",
      " [0 1]\n",
      " [1 0]\n",
      " [1 1]\n",
      " [0 1]\n",
      " [1 1]\n",
      " [1 1]\n",
      " [1 0]]\n",
      "[-1 -1 -1  1 -1 -1  1 -1  1 -1  1 -1  1  1  1 -1  1 -1 -1  1]\n"
     ]
    }
   ],
   "source": [
    "def myinout():\n",
    "    into = [randint(0,2),randint(0,2)]\n",
    "    if into == [1,0] or into == [0,1]:# or into == [1,1]:\n",
    "        outof = 1\n",
    "    else:\n",
    "        outof = -1\n",
    "    return [into,outof]\n",
    "ingoal = np.array([myinout() for i in range(20)]).T\n",
    "print ingoal\n",
    "inputs = np.array([i for i in ingoal[0]])\n",
    "print inputs\n",
    "goal = np.array([i for i in ingoal[1]])\n",
    "print goal"
   ]
  },
  {
   "cell_type": "code",
   "execution_count": 3,
   "metadata": {
    "collapsed": false
   },
   "outputs": [],
   "source": [
    "a = Hidden.initalize(2,[300],1,activation=fast_sigmoid)\n",
    "ta = LayeredLearning(inputs,goal,a)"
   ]
  },
  {
   "cell_type": "code",
   "execution_count": 4,
   "metadata": {
    "collapsed": false
   },
   "outputs": [
    {
     "name": "stdout",
     "output_type": "stream",
     "text": [
      "1.05009687133\n",
      "1.05940070293\n",
      "1.05768858964\n",
      "1.05485907416\n",
      "1.05377286924\n",
      "1.05419252669\n",
      "1.0561959166\n",
      "1.05847461222\n",
      "1.06037635578\n",
      "1.06236211848\n",
      "1.06453295862\n",
      "1.0663449993\n",
      "1.06791935722\n",
      "1.0695081849\n",
      "1.07078795052\n",
      "1.07199379922\n",
      "1.0731237632\n",
      "1.07433444093\n",
      "1.0753297537\n",
      "1.07627843716\n",
      "1.07727538768\n",
      "1.0783156122\n",
      "1.07928246482\n",
      "1.08016867199\n",
      "1.08103390124\n",
      "1.08186560181\n",
      "1.08254255807\n",
      "1.08315679667\n",
      "1.08369878464\n",
      "1.08440026536\n",
      "1.08514745511\n",
      "1.08602089319\n",
      "1.08690595737\n",
      "1.08788764468\n",
      "1.08900236975\n",
      "1.09019348902\n",
      "1.09142940922\n",
      "1.0926068965\n",
      "1.09378119386\n",
      "1.09487495461\n",
      "1.0959987768\n",
      "1.09707956859\n",
      "1.0980859687\n",
      "1.0989609602\n",
      "1.09999968332\n",
      "1.10101309038\n",
      "1.10198626114\n",
      "1.10294038819\n",
      "1.10383844885\n",
      "1.10457385294\n",
      "CPU times: user 445 ms, sys: 4.9 ms, total: 450 ms\n",
      "Wall time: 448 ms\n"
     ]
    }
   ],
   "source": [
    "%%time\n",
    "for d in range(50):\n",
    "    for i in range(5):\n",
    "        ta.frontlearn()\n",
    "    for i in range(5):\n",
    "        ta.backlearn()\n",
    "    print ta.genome.calcerror([[1,1],[1,0],[0,1],[0,0]],[-1,1,1,-1])"
   ]
  },
  {
   "cell_type": "code",
   "execution_count": 5,
   "metadata": {
    "collapsed": false
   },
   "outputs": [
    {
     "name": "stdout",
     "output_type": "stream",
     "text": [
      "[[-0.54994666]\n",
      " [ 0.59043548]\n",
      " [ 0.25728733]\n",
      " [-0.40383342]]\n"
     ]
    }
   ],
   "source": [
    "an = ta.genome\n",
    "print an.calcout([[1,1],[1,0],[0,1],[0,0]])"
   ]
  },
  {
   "cell_type": "code",
   "execution_count": 6,
   "metadata": {
    "collapsed": false
   },
   "outputs": [],
   "source": [
    "pop = [Hidden.initalize(2,[5],1) for i in range(100)]\n",
    "popt = GeneticEvolution(inputs,goal,pop,50)"
   ]
  },
  {
   "cell_type": "code",
   "execution_count": 13,
   "metadata": {
    "collapsed": false
   },
   "outputs": [
    {
     "name": "stdout",
     "output_type": "stream",
     "text": [
      "Hidden(layers=[Perceptron(matrix=array([[-0.05195971,  0.24433889, -0.38285213,  0.15386748, -0.13524662],\n",
      "       [-0.62653877,  0.22590078, -0.38610537,  0.01902992, -0.35895478]]), offset=array([[ 0.64475488,  0.48045031,  0.85400775,  0.66773919,  0.04624674]]), activation=<function rectified_linear at 0x10bbdcf50>, maxdelta=-0.106315598724), Perceptron(matrix=array([[ 0.05349421],\n",
      "       [-0.48099332],\n",
      "       [-0.36658286],\n",
      "       [-0.14741931],\n",
      "       [-0.06274907]]), offset=array([[ 0.5]]), activation=<function fast_sigmoid at 0x10bbdce60>, maxdelta=-0.415059725723)])\n",
      "[[-0.09970409]]\n",
      "1\n",
      "0.994987619232\n"
     ]
    },
    {
     "data": {
      "text/plain": [
       "array([[-0.10102627],\n",
       "       [-0.09970409],\n",
       "       [-0.10035028],\n",
       "       [-0.0999156 ]])"
      ]
     },
     "execution_count": 13,
     "metadata": {},
     "output_type": "execute_result"
    }
   ],
   "source": [
    "a = popt(100,0.02)\n",
    "a.calcout([[1,1],[1,0],[0,1],[0,0]])#,[-1,1,1,-1])"
   ]
  },
  {
   "cell_type": "code",
   "execution_count": null,
   "metadata": {
    "collapsed": true
   },
   "outputs": [],
   "source": []
  }
 ],
 "metadata": {
  "anaconda-cloud": {},
  "kernelspec": {
   "display_name": "Python [Root]",
   "language": "python",
   "name": "Python [Root]"
  },
  "language_info": {
   "codemirror_mode": {
    "name": "ipython",
    "version": 2
   },
   "file_extension": ".py",
   "mimetype": "text/x-python",
   "name": "python",
   "nbconvert_exporter": "python",
   "pygments_lexer": "ipython2",
   "version": "2.7.12"
  }
 },
 "nbformat": 4,
 "nbformat_minor": 0
}
