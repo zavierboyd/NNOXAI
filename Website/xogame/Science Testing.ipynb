{
 "cells": [
  {
   "cell_type": "code",
   "execution_count": 1,
   "metadata": {
    "collapsed": false
   },
   "outputs": [],
   "source": [
    "from __future__ import division\n",
    "from numpy.random import random, randint\n",
    "from random import choice\n",
    "import numpy as np\n",
    "from numpy import dot, array\n",
    "from symbolicai import *\n",
    "from neuralnet2 import *\n",
    "from oneturntesting import inputs, goal\n",
    "np.random.seed(1337)"
   ]
  },
  {
   "cell_type": "code",
   "execution_count": null,
   "metadata": {
    "collapsed": true
   },
   "outputs": [],
   "source": [
    "a = XOQLearning()"
   ]
  },
  {
   "cell_type": "code",
   "execution_count": 22,
   "metadata": {
    "collapsed": false,
    "scrolled": true
   },
   "outputs": [
    {
     "name": "stdout",
     "output_type": "stream",
     "text": [
      "CPU times: user 2min 50s, sys: 501 ms, total: 2min 51s\n",
      "Wall time: 2min 51s\n"
     ]
    }
   ],
   "source": [
    "%%time \n",
    "#Q-Learning, Reinforcement Learning.\n",
    "for i in xrange(2000):\n",
    "    a.learn(stupidai2,'x', multi=0.2)\n",
    "    a.learn(stupidai2,'o', multi=0.2)\n",
    "    \n",
    "for i in xrange(100000):\n",
    "    a.learn(oneturnai2(),'x', multi=0.2)\n",
    "    \n",
    "for i in xrange(100000):\n",
    "    a.learn(oneturnai2(),'x', multi=1)\n",
    "    \n",
    "for i in xrange(100000):\n",
    "    a.learn(oneturnai2(),'x', multi=5)\n",
    "    \n",
    "for i in xrange(100000):\n",
    "    a.learn(oneturnai2(),'o', multi=0.2)\n",
    "    \n",
    "for i in xrange(100000):\n",
    "    a.learn(oneturnai2(),'o', multi=1)\n",
    "    \n",
    "for i in xrange(100000):\n",
    "    a.learn(oneturnai2(),'o', multi=5)"
   ]
  },
  {
   "cell_type": "code",
   "execution_count": 23,
   "metadata": {
    "collapsed": false,
    "scrolled": true
   },
   "outputs": [
    {
     "name": "stdout",
     "output_type": "stream",
     "text": [
      "4071\n",
      "lose 135\n",
      "draw 622\n",
      "win 1243\n",
      "mistake 0\n",
      "xlose 4\n",
      "xdraw 150\n",
      "xwin 846\n",
      "xmistake 0\n",
      "olose 131\n",
      "odraw 472\n",
      "owin 397\n",
      "omistake 0\n"
     ]
    }
   ],
   "source": [
    "print len(a.database)\n",
    "oresults = [playgame(oneturnai2(),a,newboard())*-1 for i in xrange(1000)]\n",
    "xresults = [playgame(a,oneturnai2(),newboard()) for i in xrange(1000)]\n",
    "results = array(oresults+xresults)\n",
    "print 'lose', np.sum(results==-1)\n",
    "print 'draw', np.sum(results==0)\n",
    "print 'win', np.sum(results==1)\n",
    "print 'mistake', np.sum(results==-2)\n",
    "results = array(xresults)\n",
    "print 'xlose', np.sum(results==-1)\n",
    "print 'xdraw', np.sum(results==0)\n",
    "print 'xwin', np.sum(results==1)\n",
    "print 'xmistake', np.sum(results==-2)\n",
    "results = array(oresults)\n",
    "print 'olose', np.sum(results==-1)\n",
    "print 'odraw', np.sum(results==0)\n",
    "print 'owin', np.sum(results==1)\n",
    "print 'omistake', np.sum(results==-2)"
   ]
  },
  {
   "cell_type": "code",
   "execution_count": 46,
   "metadata": {
    "collapsed": false
   },
   "outputs": [],
   "source": [
    "perceptron = XOPerceptron.initalize(27,9,activation=rectified_linear)\n",
    "plearnfunc = GradeintDecent(inputs, goal, perceptron)\n",
    "gens = 1000\n",
    "threshold = 0"
   ]
  },
  {
   "cell_type": "code",
   "execution_count": 47,
   "metadata": {
    "collapsed": false
   },
   "outputs": [
    {
     "name": "stdout",
     "output_type": "stream",
     "text": [
      "0.132230855117\n",
      "CPU times: user 1min 22s, sys: 1.39 s, total: 1min 24s\n",
      "Wall time: 21.4 s\n"
     ]
    }
   ],
   "source": [
    "%%time\n",
    "#Perceptron, Supervised Learning.\n",
    "nperceptron = plearnfunc(gens, threshold)\n",
    "print nperceptron.error"
   ]
  },
  {
   "cell_type": "code",
   "execution_count": 48,
   "metadata": {
    "collapsed": false
   },
   "outputs": [
    {
     "name": "stdout",
     "output_type": "stream",
     "text": [
      "lose 1269\n",
      "draw 507\n",
      "win 224\n",
      "mistake 0\n",
      "xlose 420\n",
      "xdraw 365\n",
      "xwin 215\n",
      "xmistake 0\n",
      "olose 849\n",
      "odraw 142\n",
      "owin 9\n",
      "omistake 0\n"
     ]
    }
   ],
   "source": [
    "oresults = [playgame(oneturnai2(),nperceptron,newboard())*-1 for i in xrange(1000)]\n",
    "xresults = [playgame(nperceptron,oneturnai2(),newboard()) for i in xrange(1000)]\n",
    "results = array(oresults+xresults)\n",
    "print 'lose', np.sum(results==-1)\n",
    "print 'draw', np.sum(results==0)\n",
    "print 'win', np.sum(results==1)\n",
    "print 'mistake', np.sum(results==-2)\n",
    "results = array(xresults)\n",
    "print 'xlose', np.sum(results==-1)\n",
    "print 'xdraw', np.sum(results==0)\n",
    "print 'xwin', np.sum(results==1)\n",
    "print 'xmistake', np.sum(results==-2)\n",
    "results = array(oresults)\n",
    "print 'olose', np.sum(results==-1)\n",
    "print 'odraw', np.sum(results==0)\n",
    "print 'owin', np.sum(results==1)\n",
    "print 'omistake', np.sum(results==-2)"
   ]
  },
  {
   "cell_type": "code",
   "execution_count": 49,
   "metadata": {
    "collapsed": true
   },
   "outputs": [],
   "source": [
    "hidden = XOHidden.initalize(27,[300],9,activation=rectified_linear, endactivation=linear)\n",
    "hlearnfunc = LayeredLearning(inputs, goal, hidden)"
   ]
  },
  {
   "cell_type": "code",
   "execution_count": 50,
   "metadata": {
    "collapsed": false
   },
   "outputs": [
    {
     "name": "stdout",
     "output_type": "stream",
     "text": [
      "CPU times: user 17min 40s, sys: 10.9 s, total: 17min 51s\n",
      "Wall time: 7min 57s\n"
     ]
    }
   ],
   "source": [
    "%%time\n",
    "for x in xrange(5):\n",
    "    for i in xrange(1000):\n",
    "        hlearnfunc.frontlearn()\n",
    "    for i in xrange(1000):\n",
    "        hlearnfunc.backlearn()"
   ]
  },
  {
   "cell_type": "code",
   "execution_count": 51,
   "metadata": {
    "collapsed": false,
    "scrolled": true
   },
   "outputs": [
    {
     "name": "stdout",
     "output_type": "stream",
     "text": [
      "......oxx\n",
      "6\n",
      "......oxx\n",
      "6\n",
      "......oxx\n",
      "6\n",
      ".xo.oxxox\n",
      "4\n",
      "......oxx\n",
      "6\n",
      "......oxx\n",
      "6\n",
      "......oxx\n",
      "6\n",
      ".xo.oxxox\n",
      "4\n",
      "......oxx\n",
      "6\n",
      ".xo.oxxox\n",
      "4\n",
      "......oxx\n",
      "6\n",
      ".xo.oxxox\n",
      "4\n",
      ".xo.oxxox\n",
      "4\n",
      "......oxx\n",
      "6\n",
      ".xo.oxxox\n",
      "4\n",
      "......oxx\n",
      "6\n",
      ".xo.oxxox\n",
      "4\n",
      "......oxx\n",
      "6\n",
      ".xo.oxxox\n",
      "4\n",
      ".xo.oxxox\n",
      "4\n",
      ".xo.oxxox\n",
      "4\n",
      ".xo.oxxox\n",
      "4\n",
      "......oxx\n",
      "6\n",
      ".xo.oxxox\n",
      "4\n",
      "......oxx\n",
      "6\n",
      "......oxx\n",
      "6\n",
      ".xo.oxxox\n",
      "4\n",
      "......oxx\n",
      "6\n",
      ".xo.oxxox\n",
      "4\n",
      ".xo.oxxox\n",
      "4\n",
      ".xo.oxxox\n",
      "4\n",
      ".xo.oxxox\n",
      "4\n",
      ".xo.oxxox\n",
      "4\n",
      ".xo.oxxox\n",
      "4\n",
      ".xo.oxxox\n",
      "4\n",
      "......oxx\n",
      "6\n",
      "......oxx\n",
      "6\n",
      "......oxx\n",
      "6\n",
      "lose 835\n",
      "draw 772\n",
      "win 355\n",
      "mistake 38\n",
      "xlose 257\n",
      "xdraw 505\n",
      "xwin 238\n",
      "xmistake 0\n",
      "olose 578\n",
      "odraw 267\n",
      "owin 117\n",
      "omistake 38\n"
     ]
    }
   ],
   "source": [
    "nhidden = hlearnfunc.genome\n",
    "\n",
    "oresults = [playgame(oneturnai2(),nhidden,newboard())*-1 for i in xrange(1000)]\n",
    "xresults = [playgame(nhidden,oneturnai2(),newboard()) for i in xrange(1000)]\n",
    "results = array(oresults+xresults)\n",
    "print 'lose', np.sum(results==-1)\n",
    "print 'draw', np.sum(results==0)\n",
    "print 'win', np.sum(results==1)\n",
    "print 'mistake', np.sum(results==-2)\n",
    "results = array(xresults)\n",
    "print 'xlose', np.sum(results==-1)\n",
    "print 'xdraw', np.sum(results==0)\n",
    "print 'xwin', np.sum(results==1)\n",
    "print 'xmistake', np.sum(results==-2)\n",
    "results = array(oresults)\n",
    "print 'olose', np.sum(results==-1)\n",
    "print 'odraw', np.sum(results==0)\n",
    "print 'owin', np.sum(results==1)\n",
    "print 'omistake', np.sum(results==-2)"
   ]
  },
  {
   "cell_type": "code",
   "execution_count": null,
   "metadata": {
    "collapsed": true
   },
   "outputs": [],
   "source": []
  }
 ],
 "metadata": {
  "anaconda-cloud": {},
  "kernelspec": {
   "display_name": "Python [Root]",
   "language": "python",
   "name": "Python [Root]"
  },
  "language_info": {
   "codemirror_mode": {
    "name": "ipython",
    "version": 2
   },
   "file_extension": ".py",
   "mimetype": "text/x-python",
   "name": "python",
   "nbconvert_exporter": "python",
   "pygments_lexer": "ipython2",
   "version": "2.7.12"
  }
 },
 "nbformat": 4,
 "nbformat_minor": 0
}
