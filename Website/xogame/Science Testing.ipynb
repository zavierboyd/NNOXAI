{
 "cells": [
  {
   "cell_type": "code",
   "execution_count": 65,
   "metadata": {
    "collapsed": false
   },
   "outputs": [],
   "source": [
    "from __future__ import division\n",
    "from numpy.random import random, randint\n",
    "from random import choice\n",
    "import numpy as np\n",
    "from numpy import dot, array\n",
    "from symbolicai import *\n",
    "from neuralnet2 import *\n",
    "import oneturntestingequal as oneequal \n",
    "equalinputs = oneequal.inputs\n",
    "equalgoal = oneequal.goal\n",
    "import oneturntestingblock as oneblock\n",
    "blockinputs = oneblock.inputs\n",
    "blockgoal = oneblock.goal\n",
    "import oneturntestingwin as onewin\n",
    "wininputs = onewin.inputs\n",
    "wingoal = onewin.goal\n",
    "import QLearningtraining as qtrain\n",
    "np.random.seed(1337)"
   ]
  },
  {
   "cell_type": "code",
   "execution_count": 2,
   "metadata": {
    "collapsed": true
   },
   "outputs": [],
   "source": [
    "a = XOQLearning()"
   ]
  },
  {
   "cell_type": "code",
   "execution_count": 3,
   "metadata": {
    "collapsed": false,
    "scrolled": true
   },
   "outputs": [
    {
     "name": "stdout",
     "output_type": "stream",
     "text": [
      "CPU times: user 3min 5s, sys: 863 ms, total: 3min 6s\n",
      "Wall time: 3min 8s\n"
     ]
    }
   ],
   "source": [
    "%%time \n",
    "#Q-Learning, Reinforcement Learning.\n",
    "for i in xrange(2000):\n",
    "    a.learn(stupidai2,'x', multi=0.2)\n",
    "    a.learn(stupidai2,'o', multi=0.2)\n",
    "    \n",
    "for i in xrange(100000):\n",
    "    a.learn(oneturnai2(),'x', multi=0.2)\n",
    "    \n",
    "for i in xrange(100000):\n",
    "    a.learn(oneturnai2(),'x', multi=1)\n",
    "    \n",
    "for i in xrange(100000):\n",
    "    a.learn(oneturnai2(),'x', multi=5)\n",
    "    \n",
    "for i in xrange(100000):\n",
    "    a.learn(oneturnai2(),'o', multi=0.2)\n",
    "    \n",
    "for i in xrange(100000):\n",
    "    a.learn(oneturnai2(),'o', multi=1)\n",
    "    \n",
    "for i in xrange(100000):\n",
    "    a.learn(oneturnai2(),'o', multi=5)"
   ]
  },
  {
   "cell_type": "code",
   "execution_count": 4,
   "metadata": {
    "collapsed": false,
    "scrolled": true
   },
   "outputs": [
    {
     "name": "stdout",
     "output_type": "stream",
     "text": [
      "4091\n",
      "lose 31\n",
      "draw 258\n",
      "win 711\n",
      "mistake 0\n",
      "xlose 0\n",
      "xdraw 17\n",
      "xwin 483\n",
      "xmistake 0\n",
      "olose 31\n",
      "odraw 241\n",
      "owin 228\n",
      "omistake 0\n"
     ]
    }
   ],
   "source": [
    "print len(a.database)\n",
    "a.multi = 50\n",
    "oresults = [playgame(oneturnai2(),a,newboard())*-1 for i in xrange(500)]\n",
    "xresults = [playgame(a,oneturnai2(),newboard()) for i in xrange(500)]\n",
    "results = array(oresults+xresults)\n",
    "print 'lose', np.sum(results==-1)\n",
    "print 'draw', np.sum(results==0)\n",
    "print 'win', np.sum(results==1)\n",
    "print 'mistake', np.sum(results==-2)\n",
    "results = array(xresults)\n",
    "print 'xlose', np.sum(results==-1)\n",
    "print 'xdraw', np.sum(results==0)\n",
    "print 'xwin', np.sum(results==1)\n",
    "print 'xmistake', np.sum(results==-2)\n",
    "results = array(oresults)\n",
    "print 'olose', np.sum(results==-1)\n",
    "print 'odraw', np.sum(results==0)\n",
    "print 'owin', np.sum(results==1)\n",
    "print 'omistake', np.sum(results==-2)"
   ]
  },
  {
   "cell_type": "code",
   "execution_count": 5,
   "metadata": {
    "collapsed": false
   },
   "outputs": [],
   "source": [
    "perceptron = XOPerceptron.initalize(27,9,activation=rectified_linear)\n",
    "plearnfunc = GradeintDecent(equalinputs, equalgoal, perceptron)\n",
    "gens = 1000\n",
    "threshold = 0"
   ]
  },
  {
   "cell_type": "code",
   "execution_count": 6,
   "metadata": {
    "collapsed": false
   },
   "outputs": [
    {
     "name": "stdout",
     "output_type": "stream",
     "text": [
      "0.137671626464\n",
      "CPU times: user 4min 50s, sys: 8.06 s, total: 4min 58s\n",
      "Wall time: 1min 18s\n"
     ]
    }
   ],
   "source": [
    "%%time\n",
    "#Perceptron, Supervised Learning.\n",
    "equal = plearnfunc(gens, threshold)\n",
    "print equal.error"
   ]
  },
  {
   "cell_type": "code",
   "execution_count": 7,
   "metadata": {
    "collapsed": false
   },
   "outputs": [
    {
     "name": "stdout",
     "output_type": "stream",
     "text": [
      "lose 365\n",
      "draw 635\n",
      "win 0\n",
      "mistake 0\n"
     ]
    }
   ],
   "source": [
    "oresults = [playgame(oneturnai2(),equal,newboard())*-1 for i in xrange(500)]\n",
    "xresults = [playgame(equal,oneturnai2(),newboard()) for i in xrange(500)]\n",
    "results = array(oresults+xresults)\n",
    "print 'lose', np.sum(results==-1)\n",
    "print 'draw', np.sum(results==0)\n",
    "print 'win', np.sum(results==1)\n",
    "print 'mistake', np.sum(results==-2)"
   ]
  },
  {
   "cell_type": "code",
   "execution_count": 8,
   "metadata": {
    "collapsed": false
   },
   "outputs": [],
   "source": [
    "perceptron = XOPerceptron.initalize(27,9,activation=rectified_linear)\n",
    "plearnfunc = GradeintDecent(blockinputs, blockgoal, perceptron)\n",
    "gens = 1000\n",
    "threshold = 0"
   ]
  },
  {
   "cell_type": "code",
   "execution_count": 9,
   "metadata": {
    "collapsed": false
   },
   "outputs": [
    {
     "name": "stdout",
     "output_type": "stream",
     "text": [
      "0.227504766857\n",
      "CPU times: user 4min 45s, sys: 6.63 s, total: 4min 52s\n",
      "Wall time: 1min 15s\n"
     ]
    }
   ],
   "source": [
    "%%time\n",
    "#Perceptron, Supervised Learning.\n",
    "block = plearnfunc(gens, threshold)\n",
    "print block.error"
   ]
  },
  {
   "cell_type": "code",
   "execution_count": 10,
   "metadata": {
    "collapsed": false
   },
   "outputs": [
    {
     "name": "stdout",
     "output_type": "stream",
     "text": [
      "lose 344\n",
      "draw 649\n",
      "win 7\n",
      "mistake 0\n"
     ]
    }
   ],
   "source": [
    "oresults = [playgame(oneturnai2(),block,newboard())*-1 for i in xrange(500)]\n",
    "xresults = [playgame(block,oneturnai2(),newboard()) for i in xrange(500)]\n",
    "results = array(oresults+xresults)\n",
    "print 'lose', np.sum(results==-1)\n",
    "print 'draw', np.sum(results==0)\n",
    "print 'win', np.sum(results==1)\n",
    "print 'mistake', np.sum(results==-2)"
   ]
  },
  {
   "cell_type": "code",
   "execution_count": 11,
   "metadata": {
    "collapsed": false
   },
   "outputs": [],
   "source": [
    "perceptron = XOPerceptron.initalize(27,9,activation=rectified_linear)\n",
    "plearnfunc = GradeintDecent(wininputs, wingoal, perceptron)\n",
    "gens = 1000\n",
    "threshold = 0"
   ]
  },
  {
   "cell_type": "code",
   "execution_count": 12,
   "metadata": {
    "collapsed": false
   },
   "outputs": [
    {
     "name": "stdout",
     "output_type": "stream",
     "text": [
      "0.218985969275\n",
      "CPU times: user 4min 42s, sys: 6.67 s, total: 4min 49s\n",
      "Wall time: 1min 14s\n"
     ]
    }
   ],
   "source": [
    "%%time\n",
    "#Perceptron, Supervised Learning.\n",
    "win = plearnfunc(gens, threshold)\n",
    "print win.error"
   ]
  },
  {
   "cell_type": "code",
   "execution_count": 13,
   "metadata": {
    "collapsed": false,
    "scrolled": true
   },
   "outputs": [
    {
     "name": "stdout",
     "output_type": "stream",
     "text": [
      "lose 638\n",
      "draw 356\n",
      "win 6\n",
      "mistake 0\n"
     ]
    }
   ],
   "source": [
    "oresults = [playgame(oneturnai2(),win,newboard())*-1 for i in xrange(500)]\n",
    "xresults = [playgame(win,oneturnai2(),newboard()) for i in xrange(500)]\n",
    "results = array(oresults+xresults)\n",
    "print 'lose', np.sum(results==-1)\n",
    "print 'draw', np.sum(results==0)\n",
    "print 'win', np.sum(results==1)\n",
    "print 'mistake', np.sum(results==-2)"
   ]
  },
  {
   "cell_type": "code",
   "execution_count": 14,
   "metadata": {
    "collapsed": true
   },
   "outputs": [],
   "source": [
    "hidden = XOHidden.initalize(27,[300],9,activation=rectified_linear, endactivation=linear)\n",
    "hlearnfunc = LayeredLearning(equalinputs, equalgoal, hidden)"
   ]
  },
  {
   "cell_type": "code",
   "execution_count": 15,
   "metadata": {
    "collapsed": false,
    "scrolled": true
   },
   "outputs": [
    {
     "name": "stdout",
     "output_type": "stream",
     "text": [
      "CPU times: user 41.8 s, sys: 945 ms, total: 42.7 s\n",
      "Wall time: 17.2 s\n"
     ]
    }
   ],
   "source": [
    "%%time\n",
    "for x in xrange(5):\n",
    "    for i in xrange(10):\n",
    "        hlearnfunc.frontlearn()\n",
    "    for i in xrange(10):\n",
    "        hlearnfunc.backlearn()\n"
   ]
  },
  {
   "cell_type": "code",
   "execution_count": 16,
   "metadata": {
    "collapsed": false,
    "scrolled": true
   },
   "outputs": [
    {
     "name": "stdout",
     "output_type": "stream",
     "text": [
      "lose 66\n",
      "draw 809\n",
      "win 125\n",
      "mistake 0\n"
     ]
    }
   ],
   "source": [
    "equalhidden = hlearnfunc.genome\n",
    "equalhidden.multi = 50\n",
    "oresults = [playgame(oneturnai2(),equalhidden,newboard())*-1 for i in xrange(500)]\n",
    "xresults = [playgame(equalhidden,oneturnai2(),newboard()) for i in xrange(500)]\n",
    "results = array(oresults+xresults)\n",
    "print 'lose', np.sum(results==-1)\n",
    "print 'draw', np.sum(results==0)\n",
    "print 'win', np.sum(results==1)\n",
    "print 'mistake', np.sum(results==-2)"
   ]
  },
  {
   "cell_type": "code",
   "execution_count": 260,
   "metadata": {
    "collapsed": false
   },
   "outputs": [],
   "source": [
    "hidden = XOHidden.initalize(27,[300],9,activation=rectified_linear, endactivation=linear)\n",
    "hlearnfunc = LayeredLearning(blockinputs, blockgoal, hidden)"
   ]
  },
  {
   "cell_type": "code",
   "execution_count": 261,
   "metadata": {
    "collapsed": false,
    "scrolled": true
   },
   "outputs": [
    {
     "name": "stdout",
     "output_type": "stream",
     "text": [
      "CPU times: user 39 s, sys: 380 ms, total: 39.4 s\n",
      "Wall time: 15.7 s\n"
     ]
    }
   ],
   "source": [
    "%%time\n",
    "for x in xrange(5):\n",
    "    for i in xrange(10):\n",
    "        hlearnfunc.frontlearn()\n",
    "    for i in xrange(10):\n",
    "        hlearnfunc.backlearn()"
   ]
  },
  {
   "cell_type": "code",
   "execution_count": null,
   "metadata": {
    "collapsed": false
   },
   "outputs": [],
   "source": [
    "\n"
   ]
  },
  {
   "cell_type": "code",
   "execution_count": 19,
   "metadata": {
    "collapsed": false,
    "scrolled": true
   },
   "outputs": [
    {
     "name": "stdout",
     "output_type": "stream",
     "text": [
      "lose 42\n",
      "draw 912\n",
      "win 46\n",
      "mistake 0\n"
     ]
    }
   ],
   "source": [
    "blockhidden = hlearnfunc.genome\n",
    "blockhidden.multi = 50\n",
    "\n",
    "\n",
    "oresults = [playgame(oneturnai2(),blockhidden,newboard())*-1 for i in xrange(500)]\n",
    "xresults = [playgame(blockhidden,oneturnai2(),newboard()) for i in xrange(500)]\n",
    "results = array(oresults+xresults)\n",
    "print 'lose', np.sum(results==-1)\n",
    "print 'draw', np.sum(results==0)\n",
    "print 'win', np.sum(results==1)\n",
    "print 'mistake', np.sum(results==-2)"
   ]
  },
  {
   "cell_type": "code",
   "execution_count": 20,
   "metadata": {
    "collapsed": true
   },
   "outputs": [],
   "source": [
    "hidden = XOHidden.initalize(27,[300],9,activation=rectified_linear, endactivation=linear)\n",
    "hlearnfunc = LayeredLearning(wininputs, wingoal, hidden)"
   ]
  },
  {
   "cell_type": "code",
   "execution_count": 21,
   "metadata": {
    "collapsed": false,
    "scrolled": true
   },
   "outputs": [
    {
     "name": "stdout",
     "output_type": "stream",
     "text": [
      "CPU times: user 41 s, sys: 892 ms, total: 41.9 s\n",
      "Wall time: 17.1 s\n"
     ]
    }
   ],
   "source": [
    "%%time\n",
    "for x in xrange(5):\n",
    "    for i in xrange(10):\n",
    "        hlearnfunc.frontlearn()\n",
    "    for i in xrange(10):\n",
    "        hlearnfunc.backlearn()"
   ]
  },
  {
   "cell_type": "code",
   "execution_count": 263,
   "metadata": {
    "collapsed": false,
    "scrolled": true
   },
   "outputs": [
    {
     "name": "stdout",
     "output_type": "stream",
     "text": [
      "lose 33\n",
      "draw 862\n",
      "win 105\n",
      "mistake 0\n"
     ]
    }
   ],
   "source": [
    "winhidden = hlearnfunc.genome\n",
    "winhidden.multi = 50\n",
    "\n",
    "\n",
    "oresults = [playgame(oneturnai2(),winhidden,newboard())*-1 for i in xrange(500)]\n",
    "xresults = [playgame(winhidden,oneturnai2(),newboard()) for i in xrange(500)]\n",
    "results = array(oresults+xresults)\n",
    "print 'lose', np.sum(results==-1)\n",
    "print 'draw', np.sum(results==0)\n",
    "print 'win', np.sum(results==1)\n",
    "print 'mistake', np.sum(results==-2)"
   ]
  },
  {
   "cell_type": "code",
   "execution_count": 257,
   "metadata": {
    "collapsed": true
   },
   "outputs": [],
   "source": [
    "azure = XOQLearning()\n",
    "\n"
   ]
  },
  {
   "cell_type": "code",
   "execution_count": 258,
   "metadata": {
    "collapsed": false
   },
   "outputs": [
    {
     "name": "stdout",
     "output_type": "stream",
     "text": [
      "lose 196\n",
      "draw 629\n",
      "win 175\n",
      "mistake 0\n",
      "lose 68\n",
      "draw 625\n",
      "win 307\n",
      "mistake 0\n",
      "lose 14\n",
      "draw 725\n",
      "win 261\n",
      "mistake 0\n",
      "lose 6\n",
      "draw 718\n",
      "win 276\n",
      "mistake 0\n",
      "lose 0\n",
      "draw 722\n",
      "win 278\n",
      "mistake 0\n",
      "CPU times: user 33.3 s, sys: 151 ms, total: 33.4 s\n",
      "Wall time: 33.4 s\n"
     ]
    }
   ],
   "source": [
    "%%time\n",
    "for x in xrange(5):\n",
    "    for i in xrange(10000):\n",
    "        azure.learn(azure,'x', multi=2)\n",
    "        azure.learn(azure,'o', multi=2)\n",
    "    azure.multi = 50\n",
    "    oresults = [playgame(oneturnai2(),azure,newboard())*-1 for i in xrange(500)]\n",
    "    xresults = [playgame(azure,oneturnai2(),newboard()) for i in xrange(500)]\n",
    "    results = array(oresults+xresults)\n",
    "    print 'lose', np.sum(results==-1)\n",
    "    print 'draw', np.sum(results==0)\n",
    "    print 'win', np.sum(results==1)\n",
    "    print 'mistake', np.sum(results==-2)\n",
    "\n"
   ]
  },
  {
   "cell_type": "code",
   "execution_count": 264,
   "metadata": {
    "collapsed": false
   },
   "outputs": [
    {
     "name": "stdout",
     "output_type": "stream",
     "text": [
      "[[0 0 0 0 0 0 0 0 0 0]\n",
      " [0 0 0 0 0 0 0 0 0 0]\n",
      " [0 0 0 0 0 0 0 0 0 0]\n",
      " [0 0 0 0 0 0 0 0 0 0]\n",
      " [0 0 0 0 0 0 0 0 0 0]\n",
      " [0 0 0 0 0 0 0 0 0 0]\n",
      " [0 0 0 0 0 0 0 0 0 0]\n",
      " [0 0 0 0 0 0 0 0 0 0]\n",
      " [0 0 0 0 0 0 0 0 0 0]\n",
      " [0 0 0 0 0 0 0 0 0 0]]\n",
      "[[    0    -1   158   500   254   405   207    68   635   637]\n",
      " [    1     0   500   184  1000    90     0    20   287   948]\n",
      " [ -158  -500     0     0     0  -445  -159  -499  -381   194]\n",
      " [ -500  -184     0     0     0  -805  -172  -500  -349   216]\n",
      " [ -254 -1000     0     0     0  -543  -475  -622  -645   103]\n",
      " [ -405   -90   445   805   543     0    35   184    65   842]\n",
      " [ -207     0   159   172   475   -35     0  -136    23   692]\n",
      " [  -68   -20   499   500   622  -184   136     0    75   780]\n",
      " [ -635  -287   381   349   645   -65   -23   -75     0   765]\n",
      " [ -637  -948  -194  -216  -103  -842  -692  -780  -765     0]]\n"
     ]
    }
   ],
   "source": [
    "#Round Robin\n",
    "a.multi = 50\n",
    "azure.multi = 50\n",
    "winhidden.multi = 50\n",
    "blockhidden.multi = 50\n",
    "equalhidden.multi = 50\n",
    "qhidden.multi = 50\n",
    "\n",
    "\n",
    "def calcWLD(ai1, ai2):\n",
    "    oresults = [playgame(ai2,ai1,newboard())*-1 for i in xrange(500)]\n",
    "    xresults = [playgame(ai1,ai2,newboard()) for i in xrange(500)]\n",
    "    results = array(oresults+xresults)\n",
    "    lose = np.sum(results==-1)\n",
    "    draw = np.sum(results==0)\n",
    "    win = np.sum(results==1)\n",
    "    mistake = np.sum(results==-2)\n",
    "    ai1WLD = win - lose\n",
    "    ai2WLD = ai1WLD * -1\n",
    "    return ai1WLD, ai2WLD\n",
    "\n",
    "ais = [a, azure, equal, block, win, equalhidden, blockhidden, winhidden, oneturnai2(), stupidai2]\n",
    "WLD = np.array([[0 for x in range(len(ais))] for i in range(len(ais))])\n",
    "print WLD\n",
    "for ai1 in range(len(ais)):\n",
    "    for ai2 in range(ai1+1,len(ais)):\n",
    "        if ai1 != ai2:\n",
    "            ai1WLD, ai2WLD = calcWLD(ais[ai1], ais[ai2])\n",
    "            WLD[ai1][ai2] = ai1WLD\n",
    "            WLD[ai2][ai1] = ai2WLD\n",
    "\n",
    "print WLD\n",
    "# print calcWLD(a,winhidden) "
   ]
  },
  {
   "cell_type": "code",
   "execution_count": 38,
   "metadata": {
    "collapsed": false
   },
   "outputs": [
    {
     "name": "stdout",
     "output_type": "stream",
     "text": [
      "lose 0\n",
      "draw 950\n",
      "win 50\n",
      "mistake 0\n",
      "xlose 0\n",
      "xdraw 450\n",
      "xwin 50\n",
      "xmistake 0\n",
      "olose 0\n",
      "odraw 500\n",
      "owin 0\n",
      "omistake 0\n"
     ]
    }
   ],
   "source": [
    "oresults = [playgame(winhidden,a,newboard())*-1 for i in xrange(500)]\n",
    "xresults = [playgame(a,winhidden,newboard()) for i in xrange(500)]\n",
    "results = array(oresults+xresults)\n",
    "print 'lose', np.sum(results==-1)\n",
    "print 'draw', np.sum(results==0)\n",
    "print 'win', np.sum(results==1)\n",
    "print 'mistake', np.sum(results==-2)\n",
    "results = array(xresults)\n",
    "print 'xlose', np.sum(results==-1)\n",
    "print 'xdraw', np.sum(results==0)\n",
    "print 'xwin', np.sum(results==1)\n",
    "print 'xmistake', np.sum(results==-2)\n",
    "results = array(oresults)\n",
    "print 'olose', np.sum(results==-1)\n",
    "print 'odraw', np.sum(results==0)\n",
    "print 'owin', np.sum(results==1)\n",
    "print 'omistake', np.sum(results==-2)"
   ]
  },
  {
   "cell_type": "code",
   "execution_count": null,
   "metadata": {
    "collapsed": true
   },
   "outputs": [],
   "source": []
  },
  {
   "cell_type": "code",
   "execution_count": 44,
   "metadata": {
    "collapsed": true
   },
   "outputs": [],
   "source": [
    "def transboard(inputs,side):\n",
    "    oside = 'x' if side == 'o' else 'o'\n",
    "    side = [1 if bit == side else 0 for bit in inputs] \n",
    "    oside = [1 if bit == oside else 0 for bit in inputs]\n",
    "    space = [1 if bit == '.' else 0 for bit in inputs]\n",
    "    return np.array(side + oside + space)\n",
    "\n",
    "def goalin(data, movevalue, side):\n",
    "    inputs = [board for board, move in data]\n",
    "    goal = np.array([[movevalue-0.5 if i == move else 0 for i in range(9)] for board, move in data])\n",
    "    goal += np.array([[0.5 if bit == '.' else 0 for bit in input] for input in inputs])\n",
    "    inputs = [transboard(input, side) for input in inputs]\n",
    "    return inputs, goal"
   ]
  },
  {
   "cell_type": "code",
   "execution_count": 23,
   "metadata": {
    "collapsed": false
   },
   "outputs": [],
   "source": [
    "xcoach = oneturnai2()\n",
    "ocoach = oneturnai2()\n",
    "\n",
    "for i in xrange(1000):\n",
    "    playgame(xcoach, stupidai2, newboard())\n",
    "    playgame(stupidai2, ocoach, newboard())\n",
    "for i in xrange(5000):\n",
    "    playgame(xcoach, oneturnai2(), newboard())\n",
    "    playgame(oneturnai2(), ocoach, newboard())\n",
    "\n",
    "xwindata = xcoach.windata.items()\n",
    "xblockdata = xcoach.blockdata.items()\n",
    "owindata = ocoach.windata.items()\n",
    "oblockdata = ocoach.blockdata.items()"
   ]
  },
  {
   "cell_type": "code",
   "execution_count": 32,
   "metadata": {
    "collapsed": false
   },
   "outputs": [],
   "source": [
    "xwinin, xwingoal = goalin(xwindata, 1.0, 'x')\n",
    "xblockin, xblockgoal = goalin(xblockdata, 1.0, 'x')\n",
    "\n",
    "xinputs = [list(input) for input in xwinin] + [list(input) for input in xblockin]\n",
    "xgoal = [list(goal) for goal in xwingoal] + [list(goal) for goal in xblockgoal]\n",
    "\n",
    "owinin, owingoal = goalin(owindata, 1.0, 'o')\n",
    "oblockin, oblockgoal = goalin(oblockdata, 1.0, 'o')\n",
    "\n",
    "oinputs = [list(input) for input in owinin] + [list(input) for input in oblockin]\n",
    "ogoal = [list(goal) for goal in owingoal] + [list(goal) for goal in oblockgoal]\n",
    "\n",
    "inputs = oinputs+xinputs\n",
    "goal = ogoal+xgoal"
   ]
  },
  {
   "cell_type": "code",
   "execution_count": null,
   "metadata": {
    "collapsed": false
   },
   "outputs": [],
   "source": []
  },
  {
   "cell_type": "markdown",
   "metadata": {},
   "source": [
    "oxo..xxxo\n",
    "[1, 0, 1, 0, 0, 0, 0, 0, 1, 0, 1, 0, 0, 0, 1, 1, 1, 0, 0, 0, 0, 1, 1, 0, 0, 0, 0]\n",
    "[0.0, 0.0, 0.0, 0.5, 1.5, 0.0, 0.0, 0.0, 0.0]"
   ]
  },
  {
   "cell_type": "code",
   "execution_count": null,
   "metadata": {
    "collapsed": true
   },
   "outputs": [],
   "source": []
  },
  {
   "cell_type": "code",
   "execution_count": 46,
   "metadata": {
    "collapsed": true
   },
   "outputs": [],
   "source": []
  },
  {
   "cell_type": "code",
   "execution_count": 292,
   "metadata": {
    "collapsed": false,
    "scrolled": true
   },
   "outputs": [
    {
     "name": "stdout",
     "output_type": "stream",
     "text": [
      "CPU times: user 2 µs, sys: 1e+03 ns, total: 3 µs\n",
      "Wall time: 13.1 µs\n"
     ]
    }
   ],
   "source": [
    "%%time \n",
    "#Q-Learning, Reinforcement Learning.\n",
    "for i in xrange(2000):\n",
    "    azure.learn(azure,'x', multi=0.2)\n",
    "    azure.learn(azure,'o', multi=0.2)\n",
    "    \n",
    "for i in xrange(100000):\n",
    "    azure.learn(azure,'x', multi=0.2)\n",
    "    azure.learn(azure,'o', multi=0.2)\n",
    "    \n",
    "oresults = [playgame(oneturnai2(),azure,newboard())*-1 for i in xrange(500)]\n",
    "xresults = [playgame(azure,oneturnai2(),newboard()) for i in xrange(500)]\n",
    "results = array(oresults+xresults)\n",
    "print 'lose', np.sum(results==-1)\n",
    "print 'draw', np.sum(results==0)\n",
    "print 'win', np.sum(results==1)\n",
    "print 'mistake', np.sum(results==-2)\n",
    "for i in xrange(100000):\n",
    "    azure.learn(azure,'x', multi=1)\n",
    "    azure.learn(azure,'o', multi=1)\n",
    "    \n",
    "oresults = [playgame(oneturnai2(),azure,newboard())*-1 for i in xrange(500)]\n",
    "xresults = [playgame(azure,oneturnai2(),newboard()) for i in xrange(500)]\n",
    "results = array(oresults+xresults)\n",
    "print 'lose', np.sum(results==-1)\n",
    "print 'draw', np.sum(results==0)\n",
    "print 'win', np.sum(results==1)\n",
    "print 'mistake', np.sum(results==-2)\n",
    "for i in xrange(100000):\n",
    "    azure.learn(azure,'x', multi=5)\n",
    "    azure.learn(azure,'o', multi=5)\n",
    "\n",
    "\n"
   ]
  },
  {
   "cell_type": "code",
   "execution_count": 85,
   "metadata": {
    "collapsed": false
   },
   "outputs": [
    {
     "name": "stdout",
     "output_type": "stream",
     "text": [
      "lose 70\n",
      "draw 557\n",
      "win 373\n",
      "mistake 0\n"
     ]
    }
   ],
   "source": [
    "azure.multi = 7\n",
    "oresults = [playgame(oneturnai2(),azure,newboard())*-1 for i in xrange(500)]\n",
    "xresults = [playgame(azure,oneturnai2(),newboard()) for i in xrange(500)]\n",
    "results = array(oresults+xresults)\n",
    "print 'lose', np.sum(results==-1)\n",
    "print 'draw', np.sum(results==0)\n",
    "print 'win', np.sum(results==1)\n",
    "print 'mistake', np.sum(results==-2)"
   ]
  },
  {
   "cell_type": "code",
   "execution_count": null,
   "metadata": {
    "collapsed": false
   },
   "outputs": [],
   "source": []
  },
  {
   "cell_type": "code",
   "execution_count": null,
   "metadata": {
    "collapsed": false
   },
   "outputs": [],
   "source": []
  },
  {
   "cell_type": "code",
   "execution_count": null,
   "metadata": {
    "collapsed": false
   },
   "outputs": [],
   "source": []
  },
  {
   "cell_type": "code",
   "execution_count": 110,
   "metadata": {
    "collapsed": true
   },
   "outputs": [],
   "source": [
    "class XOQHidden(XOHidden):\n",
    "    def findmove(self, moves):\n",
    "        y = rectified_linear(np.exp(moves*self.multi)-np.exp(self.offset*self.multi))\n",
    "        s = np.sum(y)\n",
    "        prob = y / s\n",
    "        c = np.cumsum(prob)\n",
    "        move = np.sum([c < np.random.random()])\n",
    "        return move\n"
   ]
  },
  {
   "cell_type": "code",
   "execution_count": 111,
   "metadata": {
    "collapsed": false
   },
   "outputs": [],
   "source": [
    "hidden = XOQHidden.initalize(27,[300],9,activation=rectified_linear, endactivation=linear)\n",
    "hlearnfunc = LayeredLearning(qtrain.inputs, np.array(qtrain.goal)+1.5, hidden)"
   ]
  },
  {
   "cell_type": "code",
   "execution_count": 114,
   "metadata": {
    "collapsed": false,
    "scrolled": true
   },
   "outputs": [
    {
     "name": "stdout",
     "output_type": "stream",
     "text": [
      "0 0.316036028701\n",
      "1 0.316036028701\n",
      "2 0.316036028701\n",
      "3 0.316036028701\n",
      "4 0.316036028701\n",
      "5 0.316036028701\n",
      "6 0.316036028701\n",
      "7 0.316036028701\n",
      "8 0.316036028701\n",
      "9 0.316036028701\n",
      "CPU times: user 8.48 s, sys: 121 ms, total: 8.6 s\n",
      "Wall time: 2.17 s\n"
     ]
    }
   ],
   "source": [
    "%%time\n",
    "for i in xrange(10):\n",
    "    hlearnfunc.frontlearn()\n",
    "    print i,qhidden.calcerror(qtrain.inputs,np.array(qtrain.goal)+1.5)"
   ]
  },
  {
   "cell_type": "code",
   "execution_count": 115,
   "metadata": {
    "collapsed": false
   },
   "outputs": [
    {
     "name": "stdout",
     "output_type": "stream",
     "text": [
      "0 0.316036028701\n",
      "1 0.316036028701\n",
      "2 0.316036028701\n",
      "3 0.316036028701\n",
      "4 0.316036028701\n",
      "5 0.316036028701\n",
      "6 0.316036028701\n",
      "7 0.316036028701\n",
      "8 0.316036028701\n",
      "9 0.316036028701\n",
      "CPU times: user 10.1 s, sys: 192 ms, total: 10.3 s\n",
      "Wall time: 3.01 s\n"
     ]
    }
   ],
   "source": [
    "%%time\n",
    "for i in xrange(10):\n",
    "    hlearnfunc.backlearn()\n",
    "    print i,qhidden.calcerror(qtrain.inputs,np.array(qtrain.goal)+1.5)"
   ]
  },
  {
   "cell_type": "code",
   "execution_count": 293,
   "metadata": {
    "collapsed": false,
    "scrolled": true
   },
   "outputs": [
    {
     "name": "stdout",
     "output_type": "stream",
     "text": [
      "0.579677673866\n",
      "lose 10\n",
      "draw 227\n",
      "win 763\n",
      "mistake 0\n"
     ]
    }
   ],
   "source": [
    "qhidden = hlearnfunc.genome\n",
    "print qhidden.calcerror(qtrain.inputs,np.array(qtrain.goal)+1.4555555555555555555555)\n",
    "qhidden.offset = 0\n",
    "qhidden.multi = 150\n",
    "oresults = [playgame(a,qhidden,newboard())*-1 for i in xrange(500)]\n",
    "xresults = [playgame(qhidden,a,newboard()) for i in xrange(500)]\n",
    "results = array(oresults+xresults)\n",
    "print 'lose', np.sum(results==-1)\n",
    "print 'draw', np.sum(results==0)\n",
    "print 'win', np.sum(results==1)\n",
    "print 'mistake', np.sum(results==-2)\n"
   ]
  },
  {
   "cell_type": "code",
   "execution_count": null,
   "metadata": {
    "collapsed": true
   },
   "outputs": [],
   "source": [
    "# print np.array(qtrain.goal)+1.0"
   ]
  },
  {
   "cell_type": "code",
   "execution_count": null,
   "metadata": {
    "collapsed": false
   },
   "outputs": [],
   "source": []
  },
  {
   "cell_type": "code",
   "execution_count": null,
   "metadata": {
    "collapsed": false
   },
   "outputs": [],
   "source": []
  },
  {
   "cell_type": "code",
   "execution_count": 291,
   "metadata": {
    "collapsed": false
   },
   "outputs": [
    {
     "name": "stdout",
     "output_type": "stream",
     "text": [
      "lose 51\n",
      "draw 890\n",
      "win 59\n",
      "mistake 0\n"
     ]
    }
   ],
   "source": [
    "azure.multi = 10\n",
    "oresults = [playgame(azure,azure,newboard())*-1 for i in xrange(500)]\n",
    "xresults = [playgame(azure,azure,newboard()) for i in xrange(500)]\n",
    "results = array(oresults+xresults)\n",
    "print 'lose', np.sum(results==-1)\n",
    "print 'draw', np.sum(results==0)\n",
    "print 'win', np.sum(results==1)\n",
    "print 'mistake', np.sum(results==-2)"
   ]
  },
  {
   "cell_type": "code",
   "execution_count": null,
   "metadata": {
    "collapsed": true
   },
   "outputs": [],
   "source": []
  }
 ],
 "metadata": {
  "anaconda-cloud": {},
  "kernelspec": {
   "display_name": "Python [Root]",
   "language": "python",
   "name": "Python [Root]"
  },
  "language_info": {
   "codemirror_mode": {
    "name": "ipython",
    "version": 2
   },
   "file_extension": ".py",
   "mimetype": "text/x-python",
   "name": "python",
   "nbconvert_exporter": "python",
   "pygments_lexer": "ipython2",
   "version": "2.7.12"
  }
 },
 "nbformat": 4,
 "nbformat_minor": 0
}
