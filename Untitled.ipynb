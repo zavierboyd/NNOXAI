{
 "cells": [
  {
   "cell_type": "code",
   "execution_count": 163,
   "metadata": {
    "collapsed": false
   },
   "outputs": [
    {
     "name": "stdout",
     "output_type": "stream",
     "text": [
      "1.32722976237\n"
     ]
    }
   ],
   "source": [
    "import numpy as np\n",
    "numlist = (np.random.random(28)-0.5)\n",
    "print np.sum(numlist)"
   ]
  },
  {
   "cell_type": "code",
   "execution_count": 152,
   "metadata": {
    "collapsed": false
   },
   "outputs": [],
   "source": [
    "numlist = (np.random.random((27,100))-0.5)/5\n",
    "\n"
   ]
  },
  {
   "cell_type": "code",
   "execution_count": 153,
   "metadata": {
    "collapsed": false
   },
   "outputs": [
    {
     "data": {
      "text/plain": [
       "100"
      ]
     },
     "execution_count": 153,
     "metadata": {},
     "output_type": "execute_result"
    }
   ],
   "source": [
    "sums = np.sum(numlist, axis = 0)\n",
    "sums.size"
   ]
  },
  {
   "cell_type": "code",
   "execution_count": 154,
   "metadata": {
    "collapsed": false
   },
   "outputs": [
    {
     "data": {
      "text/plain": [
       "0.69620478300865818"
      ]
     },
     "execution_count": 154,
     "metadata": {},
     "output_type": "execute_result"
    }
   ],
   "source": [
    "np.sqrt((sums**2).mean())\n",
    "np.max(sums)"
   ]
  },
  {
   "cell_type": "code",
   "execution_count": 155,
   "metadata": {
    "collapsed": false
   },
   "outputs": [
    {
     "data": {
      "text/plain": [
       "array([-0.47178741, -0.34427054,  0.01230356, -0.06761407,  0.09524247,\n",
       "        0.12042617, -0.15579016, -0.01224692,  0.27717856,  0.09991004,\n",
       "        0.19191283, -0.09549892, -0.11840688, -0.12319291,  0.28476898,\n",
       "        0.1866575 ,  0.46986608, -0.24448514, -0.2899934 ,  0.2031912 ,\n",
       "        0.08254674,  0.36818472, -0.12073368, -0.2647491 , -0.20454465,\n",
       "       -0.54128997,  0.16468182, -0.30799842,  0.00137484,  0.11378808,\n",
       "       -0.19692643, -0.11796798, -0.23842079,  0.52310482,  0.10066218,\n",
       "       -0.04814511, -0.4740801 , -0.81737124,  0.32600307, -0.65501769,\n",
       "       -0.31002721,  0.33889686, -0.11549346,  0.21509744,  0.50384758,\n",
       "        0.00945348,  0.25667921,  0.14276907, -0.24355553,  0.0177737 ,\n",
       "        0.14403612, -0.07688016,  0.54525884,  0.26927243,  0.21593571,\n",
       "       -0.10682269, -0.15118324,  0.31417898,  0.19731404,  0.06329172,\n",
       "       -0.07060629, -0.13181007,  0.18103069,  0.38761236, -0.23782444,\n",
       "        0.20321677,  0.21944545,  0.23175403,  0.11614691,  0.39118917,\n",
       "        0.16583335, -0.29443777,  0.69620478, -0.21976134, -0.06225792,\n",
       "        0.16320673, -0.31813713, -0.19644313,  0.31566607,  0.15575832,\n",
       "       -0.10627274, -0.14375143, -0.0147931 , -0.13692087,  0.21542744,\n",
       "       -0.01232191,  0.22895286,  0.22503625, -0.9123171 ,  0.20823074,\n",
       "        0.19149023,  0.13752987, -0.18612662,  0.48113263, -0.07800785,\n",
       "       -0.09904972,  0.48190392,  0.15142889,  0.43166545,  0.43445357])"
      ]
     },
     "execution_count": 155,
     "metadata": {},
     "output_type": "execute_result"
    }
   ],
   "source": [
    "sums"
   ]
  },
  {
   "cell_type": "code",
   "execution_count": null,
   "metadata": {
    "collapsed": true
   },
   "outputs": [],
   "source": []
  },
  {
   "cell_type": "code",
   "execution_count": null,
   "metadata": {
    "collapsed": true
   },
   "outputs": [],
   "source": []
  }
 ],
 "metadata": {
  "kernelspec": {
   "display_name": "Python 2",
   "language": "python",
   "name": "python2"
  },
  "language_info": {
   "codemirror_mode": {
    "name": "ipython",
    "version": 2
   },
   "file_extension": ".py",
   "mimetype": "text/x-python",
   "name": "python",
   "nbconvert_exporter": "python",
   "pygments_lexer": "ipython2",
   "version": "2.7.11"
  }
 },
 "nbformat": 4,
 "nbformat_minor": 0
}
